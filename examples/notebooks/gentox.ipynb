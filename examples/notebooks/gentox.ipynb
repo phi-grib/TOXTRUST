{
 "cells": [
  {
   "cell_type": "code",
   "execution_count": 1,
   "id": "764ed1c4",
   "metadata": {},
   "outputs": [],
   "source": [
    "from libraries import *\n",
    "from modelling_qsar import QSAR\n",
    "from evidence_combinator import Single_Evidence, Evidece_Combinator"
   ]
  },
  {
   "cell_type": "markdown",
   "id": "000b532f",
   "metadata": {},
   "source": [
    "### QSAR model"
   ]
  },
  {
   "cell_type": "code",
   "execution_count": 2,
   "id": "28b2a6ee",
   "metadata": {},
   "outputs": [
    {
     "name": "stdout",
     "output_type": "stream",
     "text": [
      "INFO - Computing MolecularDescriptors for uploaded training dataset...\n"
     ]
    },
    {
     "name": "stderr",
     "output_type": "stream",
     "text": [
      "100%|█████████████████████████████████████████████████████████████████████████████| 6178/6178 [00:39<00:00, 158.16it/s]\n"
     ]
    },
    {
     "name": "stdout",
     "output_type": "stream",
     "text": [
      "INFO - Building model...\n",
      "INFO - Returning updated model performance considering prior probability...\n",
      "INFO - Computing MolecularDescriptors for uploaded test dataset...\n"
     ]
    },
    {
     "name": "stderr",
     "output_type": "stream",
     "text": [
      "100%|███████████████████████████████████████████████████████████████████████████████████| 6/6 [00:00<00:00, 160.55it/s]"
     ]
    },
    {
     "name": "stdout",
     "output_type": "stream",
     "text": [
      "INFO - Predicting percent probability for the test series...\n"
     ]
    },
    {
     "name": "stderr",
     "output_type": "stream",
     "text": [
      "\n"
     ]
    }
   ],
   "source": [
    "from sklearn.ensemble import RandomForestClassifier\n",
    "\n",
    "hansen_ames = r\"G:\\My Drive\\UPF\\projects\\dst\\dst_evidence_combinator\\examples\\data\\ames_hansen_train.sdf\"\n",
    "ames_test = r\"G:\\My Drive\\UPF\\projects\\dst\\dst_evidence_combinator\\examples\\data\\ames_test.sdf\"\n",
    "\n",
    "# initiate class\n",
    "Ames_RF = QSAR(hansen_ames)\n",
    "\n",
    "# compute descriptors for modelling\n",
    "Ames_RF.compute_descriptors('MolecularDescriptors')\n",
    "\n",
    "#build model \n",
    "Ames_RF.model(model=RandomForestClassifier(random_state=28, n_estimators = 700,min_samples_split=10,min_samples_leaf=3, max_features='sqrt', max_depth=100, bootstrap=False))\n",
    "\n",
    "# return reliability with prior\n",
    "Ames_RF_reliability = Ames_RF.get_performance(prior=0.35)\n",
    "\n",
    "# return prediction for the test\n",
    "Ames_RF_prediction = Ames_RF.predict_proba(ames_test)"
   ]
  },
  {
   "cell_type": "markdown",
   "id": "ff4eaed9",
   "metadata": {},
   "source": [
    "### Select one molecule"
   ]
  },
  {
   "cell_type": "code",
   "execution_count": 19,
   "id": "5b929d23",
   "metadata": {},
   "outputs": [
    {
     "data": {
      "image/png": "[encoded data removed]",
      "text/plain": [
       "<rdkit.Chem.rdchem.Mol at 0x28b37ec1540>"
      ]
     },
     "execution_count": 19,
     "metadata": {},
     "output_type": "execute_result"
    }
   ],
   "source": [
    "Ames_RF.test['molecule'][1]"
   ]
  },
  {
   "cell_type": "code",
   "execution_count": 5,
   "id": "2599012a",
   "metadata": {},
   "outputs": [],
   "source": [
    "QSAR_prediction, QSAR_reliability = Ames_RF_prediction[1], Ames_RF_reliability"
   ]
  },
  {
   "cell_type": "markdown",
   "id": "4edd1c74",
   "metadata": {},
   "source": [
    "### Load evidence using Single_Evidence class\n",
    "\n",
    "Relevance --> key from dict {'certain':1,'plausible':0.9,'probable':0.75,'equivocal':0.5}"
   ]
  },
  {
   "cell_type": "code",
   "execution_count": 7,
   "id": "335e62c4",
   "metadata": {},
   "outputs": [
    {
     "name": "stdout",
     "output_type": "stream",
     "text": [
      "INFO - Processing evidence identified as RF of type qsar.\n"
     ]
    }
   ],
   "source": [
    "Ames_QSAR = Single_Evidence(identifier = 'RF', source = 'QSAR', result = QSAR_prediction, reliability = QSAR_reliability, relevance='certain')\n"
   ]
  },
  {
   "cell_type": "code",
   "execution_count": 8,
   "id": "7eea5817",
   "metadata": {},
   "outputs": [
    {
     "name": "stdout",
     "output_type": "stream",
     "text": [
      "INFO - Processing evidence identified as mpf of type in vitro.\n"
     ]
    }
   ],
   "source": [
    "Ames_MPF = Single_Evidence(identifier = 'mpf', source = 'in vitro', result = 1, reliability = 0.85, relevance='plausible')"
   ]
  },
  {
   "cell_type": "code",
   "execution_count": 21,
   "id": "5365ce63",
   "metadata": {},
   "outputs": [
    {
     "name": "stdout",
     "output_type": "stream",
     "text": [
      "INFO - Processing evidence identified as Verena of type expert.\n"
     ]
    }
   ],
   "source": [
    "Ames_expert = Single_Evidence(identifier = 'Verena', source = 'expert', result = 0.8, reliability = 0.95, relevance='certain', weight=3)"
   ]
  },
  {
   "cell_type": "markdown",
   "id": "4246f658",
   "metadata": {},
   "source": [
    "### Show single components"
   ]
  },
  {
   "cell_type": "code",
   "execution_count": 10,
   "id": "4c8e713f",
   "metadata": {},
   "outputs": [
    {
     "name": "stdout",
     "output_type": "stream",
     "text": [
      "Showing the basic probability assignments of provided evidence...\n"
     ]
    },
    {
     "data": {
      "text/html": [
       "<div>\n",
       "<style scoped>\n",
       "    .dataframe tbody tr th:only-of-type {\n",
       "        vertical-align: middle;\n",
       "    }\n",
       "\n",
       "    .dataframe tbody tr th {\n",
       "        vertical-align: top;\n",
       "    }\n",
       "\n",
       "    .dataframe thead th {\n",
       "        text-align: right;\n",
       "    }\n",
       "</style>\n",
       "<table border=\"1\" class=\"dataframe\">\n",
       "  <thead>\n",
       "    <tr style=\"text-align: right;\">\n",
       "      <th></th>\n",
       "      <th>Negative</th>\n",
       "      <th>Uncertain</th>\n",
       "      <th>Positive</th>\n",
       "    </tr>\n",
       "  </thead>\n",
       "  <tbody>\n",
       "    <tr>\n",
       "      <th>RF</th>\n",
       "      <td>0.107366</td>\n",
       "      <td>0.287232</td>\n",
       "      <td>0.605402</td>\n",
       "    </tr>\n",
       "  </tbody>\n",
       "</table>\n",
       "</div>"
      ],
      "text/plain": [
       "    Negative  Uncertain  Positive\n",
       "RF  0.107366   0.287232  0.605402"
      ]
     },
     "metadata": {},
     "output_type": "display_data"
    },
    {
     "name": "stdout",
     "output_type": "stream",
     "text": [
      "Showing the belief and plausibility for outcomes associated with provided evidence...\n"
     ]
    },
    {
     "data": {
      "text/html": [
       "<div>\n",
       "<style scoped>\n",
       "    .dataframe tbody tr th:only-of-type {\n",
       "        vertical-align: middle;\n",
       "    }\n",
       "\n",
       "    .dataframe tbody tr th {\n",
       "        vertical-align: top;\n",
       "    }\n",
       "\n",
       "    .dataframe thead th {\n",
       "        text-align: right;\n",
       "    }\n",
       "</style>\n",
       "<table border=\"1\" class=\"dataframe\">\n",
       "  <thead>\n",
       "    <tr style=\"text-align: right;\">\n",
       "      <th></th>\n",
       "      <th>Belief (Negative)</th>\n",
       "      <th>Plausibility (Negative)</th>\n",
       "      <th>Belief (Positive)</th>\n",
       "      <th>Plausibility (Positive)</th>\n",
       "    </tr>\n",
       "  </thead>\n",
       "  <tbody>\n",
       "    <tr>\n",
       "      <th>RF</th>\n",
       "      <td>0.107366</td>\n",
       "      <td>0.394598</td>\n",
       "      <td>0.605402</td>\n",
       "      <td>0.892634</td>\n",
       "    </tr>\n",
       "  </tbody>\n",
       "</table>\n",
       "</div>"
      ],
      "text/plain": [
       "    Belief (Negative)  Plausibility (Negative)  Belief (Positive)  Plausibility (Positive)\n",
       "RF           0.107366                 0.394598           0.605402                 0.892634"
      ]
     },
     "metadata": {},
     "output_type": "display_data"
    }
   ],
   "source": [
    "Ames_QSAR.show_components()"
   ]
  },
  {
   "cell_type": "code",
   "execution_count": 12,
   "id": "f72e7d49",
   "metadata": {},
   "outputs": [
    {
     "name": "stdout",
     "output_type": "stream",
     "text": [
      "INFO - Default settings kept for decision and uncertainty thresholds!\n"
     ]
    },
    {
     "data": {
      "image/png": "[encoded data removed]",
      "text/plain": [
       "<Figure size 600x400 with 1 Axes>"
      ]
     },
     "metadata": {},
     "output_type": "display_data"
    },
    {
     "name": "stdout",
     "output_type": "stream",
     "text": [
      "Evidence identified as RF of type qsar suggests that that the result is positive !\n"
     ]
    }
   ],
   "source": [
    "Ames_QSAR.decision_maker()"
   ]
  },
  {
   "cell_type": "markdown",
   "id": "c0d8976c",
   "metadata": {},
   "source": [
    "### Combine using Combinator\n"
   ]
  },
  {
   "cell_type": "code",
   "execution_count": 20,
   "id": "f8bbe8be",
   "metadata": {},
   "outputs": [
    {
     "name": "stdout",
     "output_type": "stream",
     "text": [
      "INFO - Evidence Combinator initiated for the endpoint \"Ames mutagenicity\"...\n"
     ]
    }
   ],
   "source": [
    "Nitronaphthalene_1 = Evidece_Combinator('Ames mutagenicity')"
   ]
  },
  {
   "cell_type": "code",
   "execution_count": 22,
   "id": "6e322522",
   "metadata": {},
   "outputs": [
    {
     "name": "stdout",
     "output_type": "stream",
     "text": [
      "INFO - Adding evidence with identifier \"RF\" of type \"QSAR\"...\n",
      "INFO - Adding evidence with identifier \"mpf\" of type \"in vitro\"...\n",
      "INFO - Adding evidence with identifier \"Verena\" of type \"expert\"...\n"
     ]
    }
   ],
   "source": [
    "Nitronaphthalene_1.add_evidence(Ames_QSAR)\n",
    "Nitronaphthalene_1.add_evidence(Ames_MPF)\n",
    "Nitronaphthalene_1.add_evidence(Ames_expert)"
   ]
  },
  {
   "cell_type": "code",
   "execution_count": 24,
   "id": "a2596c3e",
   "metadata": {},
   "outputs": [
    {
     "name": "stdout",
     "output_type": "stream",
     "text": [
      "\n",
      "INFO - Running evidence combination...\n",
      "INFO - Considering individual weights of evidence...\n",
      "INFO - Computing ground probability masses...\n",
      "INFO - Combining evidence...\n",
      "INFO - Automatised rule selection...\n",
      "INFO - Choosing Dempster's rule: Agreement between sources and none exceeding uncertainty threshold.\n"
     ]
    }
   ],
   "source": [
    "Nitronaphthalene_1.combination(rule_selection='auto', WoE=True)"
   ]
  },
  {
   "cell_type": "code",
   "execution_count": 26,
   "id": "9658014d",
   "metadata": {},
   "outputs": [
    {
     "name": "stdout",
     "output_type": "stream",
     "text": [
      "INFO - Showing results for added evidence...\n"
     ]
    },
    {
     "data": {
      "image/png": "[encoded data removed]",
      "text/plain": [
       "<Figure size 850x550 with 1 Axes>"
      ]
     },
     "metadata": {},
     "output_type": "display_data"
    },
    {
     "name": "stdout",
     "output_type": "stream",
     "text": [
      "INFO - The collected evidence suggests that that the result is positive !\n"
     ]
    }
   ],
   "source": [
    "Nitronaphthalene_1.decision_maker()"
   ]
  },
  {
   "cell_type": "code",
   "execution_count": null,
   "id": "5d8b93e9",
   "metadata": {},
   "outputs": [],
   "source": []
  }
 ],
 "metadata": {
  "kernelspec": {
   "display_name": "Python (dst)",
   "language": "python",
   "name": "myenv"
  },
  "language_info": {
   "codemirror_mode": {
    "name": "ipython",
    "version": 3
   },
   "file_extension": ".py",
   "mimetype": "text/x-python",
   "name": "python",
   "nbconvert_exporter": "python",
   "pygments_lexer": "ipython3",
   "version": "3.10.9"
  }
 },
 "nbformat": 4,
 "nbformat_minor": 5
}
