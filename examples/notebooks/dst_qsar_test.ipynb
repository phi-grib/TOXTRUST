{
 "cells": [
  {
   "cell_type": "code",
   "execution_count": 1,
   "metadata": {},
   "outputs": [],
   "source": [
    "from combine.libraries import *\n",
    "from combine.modelling_qsar import QSAR\n",
    "from combine.qsar_evidence_combinator import QSAR_Single_Evidence, QSAR_Evidence_Combinator"
   ]
  },
  {
   "cell_type": "markdown",
   "metadata": {},
   "source": [
    "### Import data for modelling"
   ]
  },
  {
   "cell_type": "code",
   "execution_count": 2,
   "metadata": {},
   "outputs": [],
   "source": [
    "pradeep_ames = r\"F:\\My Drive\\UPF\\projects\\dst\\dst_evidence_combinator\\examples\\data\\ames_pradeep_train.sdf\"\n",
    "hansen_ames = r\"F:\\My Drive\\UPF\\projects\\dst\\dst_evidence_combinator\\examples\\data\\ames_hansen_train.sdf\"\n",
    "hakura_ames = r\"F:\\My Drive\\UPF\\projects\\dst\\dst_evidence_combinator\\examples\\data\\ames_hakura_train.sdf\"\n",
    "\n",
    "ames_test = r\"F:\\My Drive\\UPF\\projects\\dst\\dst_evidence_combinator\\examples\\data\\ames_test.sdf\""
   ]
  },
  {
   "cell_type": "code",
   "execution_count": 3,
   "metadata": {},
   "outputs": [],
   "source": [
    "t = PandasTools.LoadSDF(os.path.join(RDConfig.RDDataDir, ames_test),molColName='molecule', includeFingerprints=True)"
   ]
  },
  {
   "cell_type": "markdown",
   "metadata": {},
   "source": [
    "### Build models\n",
    "\n",
    "To initiate the QSAR class, the molecule and result columns must have the following names \"molecule\" and \"result\", respectively."
   ]
  },
  {
   "cell_type": "code",
   "execution_count": 4,
   "metadata": {},
   "outputs": [
    {
     "name": "stdout",
     "output_type": "stream",
     "text": [
      "INFO - Computing MolecularDescriptors for uploaded training dataset...\n"
     ]
    },
    {
     "name": "stderr",
     "output_type": "stream",
     "text": [
      "100%|██████████████████████████████████████████████████████████████████████████████| 6178/6178 [01:08<00:00, 90.44it/s]\n"
     ]
    },
    {
     "name": "stdout",
     "output_type": "stream",
     "text": [
      "INFO - Building model...\n",
      "INFO - Returning updated model performance considering prior probability...\n",
      "INFO - Computing MolecularDescriptors for uploaded test dataset...\n"
     ]
    },
    {
     "name": "stderr",
     "output_type": "stream",
     "text": [
      "100%|████████████████████████████████████████████████████████████████████████████████████| 6/6 [00:00<00:00, 93.73it/s]"
     ]
    },
    {
     "name": "stdout",
     "output_type": "stream",
     "text": [
      "INFO - Predicting percent probability for the test series...\n"
     ]
    },
    {
     "name": "stderr",
     "output_type": "stream",
     "text": [
      "\n"
     ]
    }
   ],
   "source": [
    "from sklearn.ensemble import RandomForestClassifier\n",
    "\n",
    "# initiate class\n",
    "Ames_RF = QSAR(hansen_ames)\n",
    "\n",
    "# compute descriptors for modelling\n",
    "Ames_RF.compute_descriptors('MolecularDescriptors')\n",
    "\n",
    "# build model \n",
    "Ames_RF.model(model=RandomForestClassifier(random_state=28, n_estimators = 700,min_samples_split=10,min_samples_leaf=3, max_features='sqrt', max_depth=100, bootstrap=False))\n",
    "\n",
    "# return reliability with prior\n",
    "Ames_RF_reliability = Ames_RF.get_performance(prior=0.35)\n",
    "\n",
    "# return prediction for the test\n",
    "Ames_RF_prediction = Ames_RF.predict_proba(ames_test)"
   ]
  },
  {
   "cell_type": "code",
   "execution_count": 5,
   "metadata": {},
   "outputs": [
    {
     "name": "stdout",
     "output_type": "stream",
     "text": [
      "INFO - Computing MorganFingerprints for uploaded training dataset...\n"
     ]
    },
    {
     "name": "stderr",
     "output_type": "stream",
     "text": [
      "100%|████████████████████████████████████████████████████████████████████████████| 2086/2086 [00:00<00:00, 3067.56it/s]\n"
     ]
    },
    {
     "name": "stdout",
     "output_type": "stream",
     "text": [
      "INFO - Building model...\n",
      "INFO - Returning updated model performance considering prior probability...\n",
      "INFO - Computing MorganFingerprints for uploaded test dataset...\n"
     ]
    },
    {
     "name": "stderr",
     "output_type": "stream",
     "text": [
      "100%|██████████████████████████████████████████████████████████████████████████████████| 6/6 [00:00<00:00, 1200.89it/s]"
     ]
    },
    {
     "name": "stdout",
     "output_type": "stream",
     "text": [
      "INFO - Predicting percent probability for the test series...\n"
     ]
    },
    {
     "name": "stderr",
     "output_type": "stream",
     "text": [
      "\n"
     ]
    }
   ],
   "source": [
    "import xgboost as xgb\n",
    "\n",
    "# initiate class\n",
    "Ames_XGBOOST = QSAR(pradeep_ames)\n",
    "\n",
    "# compute descriptors for modelling\n",
    "Ames_XGBOOST.compute_descriptors('MorganFingerprints')\n",
    "\n",
    "# build model \n",
    "Ames_XGBOOST.model(model=xgb.XGBClassifier(gamma = 0, learning_rate = 0.1, max_depth = 6, min_child_weigh = 1, n_estimators=100, verbosity = 0, silent=True,subsample=1, random_state = 28))\n",
    "\n",
    "# return reliability with prior\n",
    "Ames_XGBOOST_reliability = Ames_XGBOOST.get_performance(prior=0.4)\n",
    "\n",
    "# return prediction for the test\n",
    "Ames_XGBOOST_prediction = Ames_XGBOOST.predict_proba(ames_test)"
   ]
  },
  {
   "cell_type": "code",
   "execution_count": 6,
   "metadata": {},
   "outputs": [
    {
     "name": "stdout",
     "output_type": "stream",
     "text": [
      "INFO - Computing PhysChemProperties for uploaded training dataset...\n"
     ]
    },
    {
     "name": "stderr",
     "output_type": "stream",
     "text": [
      "100%|█████████████████████████████████████████████████████████████████████████████████| 70/70 [00:00<00:00, 578.42it/s]\n"
     ]
    },
    {
     "name": "stdout",
     "output_type": "stream",
     "text": [
      "INFO - Building model...\n",
      "INFO - Returning model evaluation metrics ...\n",
      "INFO - Computing PhysChemProperties for uploaded test dataset...\n"
     ]
    },
    {
     "name": "stderr",
     "output_type": "stream",
     "text": [
      "100%|███████████████████████████████████████████████████████████████████████████████████| 6/6 [00:00<00:00, 853.40it/s]"
     ]
    },
    {
     "name": "stdout",
     "output_type": "stream",
     "text": [
      "INFO - Predicting percent probability for the test series...\n"
     ]
    },
    {
     "name": "stderr",
     "output_type": "stream",
     "text": [
      "\n"
     ]
    }
   ],
   "source": [
    "from sklearn import svm\n",
    "\n",
    "Ames_SVM = QSAR(hakura_ames)\n",
    "\n",
    "# compute descriptors for modelling\n",
    "Ames_SVM.compute_descriptors('PhysChemProperties')\n",
    "\n",
    "# build model \n",
    "Ames_SVM.model(model=svm.SVC(C=100, kernel='rbf',gamma='auto', probability=True))\n",
    "\n",
    "# return reliability with prior\n",
    "Ames_SVM_reliability = Ames_SVM.get_performance()\n",
    "\n",
    "# return prediction for the test\n",
    "Ames_SVM_prediction = Ames_SVM.predict_proba(ames_test)"
   ]
  },
  {
   "cell_type": "markdown",
   "metadata": {},
   "source": [
    "### Single class objects"
   ]
  },
  {
   "cell_type": "code",
   "execution_count": 7,
   "metadata": {},
   "outputs": [
    {
     "name": "stdout",
     "output_type": "stream",
     "text": [
      "INFO - Processing evidence from model identified as \"RF\"...\n",
      "INFO - Processing evidence from model identified as \"XGBOOST\"...\n",
      "INFO - Processing evidence from model identified as \"SVM\"...\n"
     ]
    }
   ],
   "source": [
    "RF = QSAR_Single_Evidence(identifier= 'RF', prediction=Ames_RF_prediction, reliability=Ames_RF_reliability, relevance='certain')\n",
    "XGBOOST = QSAR_Single_Evidence(identifier= 'XGBOOST', prediction=Ames_XGBOOST_prediction, reliability=Ames_XGBOOST_reliability,relevance='certain')\n",
    "SVM = QSAR_Single_Evidence(identifier= 'SVM', prediction=Ames_SVM_prediction, reliability=Ames_SVM_reliability, relevance='certain', weight = 3)"
   ]
  },
  {
   "cell_type": "markdown",
   "metadata": {},
   "source": [
    "### Further examples for single class objects"
   ]
  },
  {
   "cell_type": "code",
   "execution_count": 8,
   "metadata": {},
   "outputs": [
    {
     "data": {
      "text/plain": [
       "0    13114-72-2\n",
       "1       86-57-7\n",
       "2      583-39-1\n",
       "3     2185-92-4\n",
       "4    32425-83-5\n",
       "5       98-37-3\n",
       "Name: ID, dtype: object"
      ]
     },
     "execution_count": 8,
     "metadata": {},
     "output_type": "execute_result"
    }
   ],
   "source": [
    "RF.test(test_set=t)\n",
    "RF.ids"
   ]
  },
  {
   "cell_type": "code",
   "execution_count": 9,
   "metadata": {},
   "outputs": [
    {
     "name": "stdout",
     "output_type": "stream",
     "text": [
      "Showing the basic probability assignments of provided evidence...\n"
     ]
    },
    {
     "data": {
      "text/html": [
       "<div>\n",
       "<style scoped>\n",
       "    .dataframe tbody tr th:only-of-type {\n",
       "        vertical-align: middle;\n",
       "    }\n",
       "\n",
       "    .dataframe tbody tr th {\n",
       "        vertical-align: top;\n",
       "    }\n",
       "\n",
       "    .dataframe thead th {\n",
       "        text-align: right;\n",
       "    }\n",
       "</style>\n",
       "<table border=\"1\" class=\"dataframe\">\n",
       "  <thead>\n",
       "    <tr style=\"text-align: right;\">\n",
       "      <th></th>\n",
       "      <th>Negative</th>\n",
       "      <th>Uncertain</th>\n",
       "      <th>Positive</th>\n",
       "    </tr>\n",
       "    <tr>\n",
       "      <th>ID</th>\n",
       "      <th></th>\n",
       "      <th></th>\n",
       "      <th></th>\n",
       "    </tr>\n",
       "  </thead>\n",
       "  <tbody>\n",
       "    <tr>\n",
       "      <th>13114-72-2</th>\n",
       "      <td>0.632821</td>\n",
       "      <td>0.167235</td>\n",
       "      <td>0.199943</td>\n",
       "    </tr>\n",
       "    <tr>\n",
       "      <th>86-57-7</th>\n",
       "      <td>0.107366</td>\n",
       "      <td>0.287232</td>\n",
       "      <td>0.605402</td>\n",
       "    </tr>\n",
       "    <tr>\n",
       "      <th>583-39-1</th>\n",
       "      <td>0.580615</td>\n",
       "      <td>0.179158</td>\n",
       "      <td>0.240228</td>\n",
       "    </tr>\n",
       "    <tr>\n",
       "      <th>2185-92-4</th>\n",
       "      <td>0.089414</td>\n",
       "      <td>0.291331</td>\n",
       "      <td>0.619255</td>\n",
       "    </tr>\n",
       "    <tr>\n",
       "      <th>32425-83-5</th>\n",
       "      <td>0.150998</td>\n",
       "      <td>0.277268</td>\n",
       "      <td>0.571734</td>\n",
       "    </tr>\n",
       "    <tr>\n",
       "      <th>98-37-3</th>\n",
       "      <td>0.667999</td>\n",
       "      <td>0.159202</td>\n",
       "      <td>0.172799</td>\n",
       "    </tr>\n",
       "  </tbody>\n",
       "</table>\n",
       "</div>"
      ],
      "text/plain": [
       "            Negative  Uncertain  Positive\n",
       "ID                                       \n",
       "13114-72-2  0.632821   0.167235  0.199943\n",
       "86-57-7     0.107366   0.287232  0.605402\n",
       "583-39-1    0.580615   0.179158  0.240228\n",
       "2185-92-4   0.089414   0.291331  0.619255\n",
       "32425-83-5  0.150998   0.277268  0.571734\n",
       "98-37-3     0.667999   0.159202  0.172799"
      ]
     },
     "metadata": {},
     "output_type": "display_data"
    },
    {
     "name": "stdout",
     "output_type": "stream",
     "text": [
      "Showing the belief and plausibility for outcomes associated with provided evidence...\n"
     ]
    },
    {
     "data": {
      "text/html": [
       "<div>\n",
       "<style scoped>\n",
       "    .dataframe tbody tr th:only-of-type {\n",
       "        vertical-align: middle;\n",
       "    }\n",
       "\n",
       "    .dataframe tbody tr th {\n",
       "        vertical-align: top;\n",
       "    }\n",
       "\n",
       "    .dataframe thead th {\n",
       "        text-align: right;\n",
       "    }\n",
       "</style>\n",
       "<table border=\"1\" class=\"dataframe\">\n",
       "  <thead>\n",
       "    <tr style=\"text-align: right;\">\n",
       "      <th></th>\n",
       "      <th>Belief (Negative)</th>\n",
       "      <th>Plausibility (Negative)</th>\n",
       "      <th>Belief (Positive)</th>\n",
       "      <th>Plausibility (Positive)</th>\n",
       "    </tr>\n",
       "    <tr>\n",
       "      <th>ID</th>\n",
       "      <th></th>\n",
       "      <th></th>\n",
       "      <th></th>\n",
       "      <th></th>\n",
       "    </tr>\n",
       "  </thead>\n",
       "  <tbody>\n",
       "    <tr>\n",
       "      <th>13114-72-2</th>\n",
       "      <td>0.632821</td>\n",
       "      <td>0.800057</td>\n",
       "      <td>0.199943</td>\n",
       "      <td>0.367179</td>\n",
       "    </tr>\n",
       "    <tr>\n",
       "      <th>86-57-7</th>\n",
       "      <td>0.107366</td>\n",
       "      <td>0.394598</td>\n",
       "      <td>0.605402</td>\n",
       "      <td>0.892634</td>\n",
       "    </tr>\n",
       "    <tr>\n",
       "      <th>583-39-1</th>\n",
       "      <td>0.580615</td>\n",
       "      <td>0.759772</td>\n",
       "      <td>0.240228</td>\n",
       "      <td>0.419385</td>\n",
       "    </tr>\n",
       "    <tr>\n",
       "      <th>2185-92-4</th>\n",
       "      <td>0.089414</td>\n",
       "      <td>0.380745</td>\n",
       "      <td>0.619255</td>\n",
       "      <td>0.910586</td>\n",
       "    </tr>\n",
       "    <tr>\n",
       "      <th>32425-83-5</th>\n",
       "      <td>0.150998</td>\n",
       "      <td>0.428266</td>\n",
       "      <td>0.571734</td>\n",
       "      <td>0.849002</td>\n",
       "    </tr>\n",
       "    <tr>\n",
       "      <th>98-37-3</th>\n",
       "      <td>0.667999</td>\n",
       "      <td>0.827201</td>\n",
       "      <td>0.172799</td>\n",
       "      <td>0.332001</td>\n",
       "    </tr>\n",
       "  </tbody>\n",
       "</table>\n",
       "</div>"
      ],
      "text/plain": [
       "            Belief (Negative)  Plausibility (Negative)  Belief (Positive)  \\\n",
       "ID                                                                          \n",
       "13114-72-2           0.632821                 0.800057           0.199943   \n",
       "86-57-7              0.107366                 0.394598           0.605402   \n",
       "583-39-1             0.580615                 0.759772           0.240228   \n",
       "2185-92-4            0.089414                 0.380745           0.619255   \n",
       "32425-83-5           0.150998                 0.428266           0.571734   \n",
       "98-37-3              0.667999                 0.827201           0.172799   \n",
       "\n",
       "            Plausibility (Positive)  \n",
       "ID                                   \n",
       "13114-72-2                 0.367179  \n",
       "86-57-7                    0.892634  \n",
       "583-39-1                   0.419385  \n",
       "2185-92-4                  0.910586  \n",
       "32425-83-5                 0.849002  \n",
       "98-37-3                    0.332001  "
      ]
     },
     "metadata": {},
     "output_type": "display_data"
    }
   ],
   "source": [
    "RF.qsar_show_components(selection='BPA')"
   ]
  },
  {
   "cell_type": "code",
   "execution_count": 10,
   "metadata": {},
   "outputs": [
    {
     "name": "stdout",
     "output_type": "stream",
     "text": [
      "Showing the basic probability assignments of provided evidence...\n"
     ]
    },
    {
     "data": {
      "text/html": [
       "<div>\n",
       "<style scoped>\n",
       "    .dataframe tbody tr th:only-of-type {\n",
       "        vertical-align: middle;\n",
       "    }\n",
       "\n",
       "    .dataframe tbody tr th {\n",
       "        vertical-align: top;\n",
       "    }\n",
       "\n",
       "    .dataframe thead th {\n",
       "        text-align: right;\n",
       "    }\n",
       "</style>\n",
       "<table border=\"1\" class=\"dataframe\">\n",
       "  <thead>\n",
       "    <tr style=\"text-align: right;\">\n",
       "      <th></th>\n",
       "      <th>Negative</th>\n",
       "      <th>Uncertain</th>\n",
       "      <th>Positive</th>\n",
       "    </tr>\n",
       "    <tr>\n",
       "      <th>ID</th>\n",
       "      <th></th>\n",
       "      <th></th>\n",
       "      <th></th>\n",
       "    </tr>\n",
       "  </thead>\n",
       "  <tbody>\n",
       "    <tr>\n",
       "      <th>13114-72-2</th>\n",
       "      <td>0.632821</td>\n",
       "      <td>0.167235</td>\n",
       "      <td>0.199943</td>\n",
       "    </tr>\n",
       "    <tr>\n",
       "      <th>86-57-7</th>\n",
       "      <td>0.107366</td>\n",
       "      <td>0.287232</td>\n",
       "      <td>0.605402</td>\n",
       "    </tr>\n",
       "    <tr>\n",
       "      <th>583-39-1</th>\n",
       "      <td>0.580615</td>\n",
       "      <td>0.179158</td>\n",
       "      <td>0.240228</td>\n",
       "    </tr>\n",
       "    <tr>\n",
       "      <th>2185-92-4</th>\n",
       "      <td>0.089414</td>\n",
       "      <td>0.291331</td>\n",
       "      <td>0.619255</td>\n",
       "    </tr>\n",
       "    <tr>\n",
       "      <th>32425-83-5</th>\n",
       "      <td>0.150998</td>\n",
       "      <td>0.277268</td>\n",
       "      <td>0.571734</td>\n",
       "    </tr>\n",
       "    <tr>\n",
       "      <th>98-37-3</th>\n",
       "      <td>0.667999</td>\n",
       "      <td>0.159202</td>\n",
       "      <td>0.172799</td>\n",
       "    </tr>\n",
       "  </tbody>\n",
       "</table>\n",
       "</div>"
      ],
      "text/plain": [
       "            Negative  Uncertain  Positive\n",
       "ID                                       \n",
       "13114-72-2  0.632821   0.167235  0.199943\n",
       "86-57-7     0.107366   0.287232  0.605402\n",
       "583-39-1    0.580615   0.179158  0.240228\n",
       "2185-92-4   0.089414   0.291331  0.619255\n",
       "32425-83-5  0.150998   0.277268  0.571734\n",
       "98-37-3     0.667999   0.159202  0.172799"
      ]
     },
     "metadata": {},
     "output_type": "display_data"
    },
    {
     "name": "stdout",
     "output_type": "stream",
     "text": [
      "Showing the belief and plausibility for outcomes associated with provided evidence...\n"
     ]
    },
    {
     "data": {
      "text/html": [
       "<div>\n",
       "<style scoped>\n",
       "    .dataframe tbody tr th:only-of-type {\n",
       "        vertical-align: middle;\n",
       "    }\n",
       "\n",
       "    .dataframe tbody tr th {\n",
       "        vertical-align: top;\n",
       "    }\n",
       "\n",
       "    .dataframe thead th {\n",
       "        text-align: right;\n",
       "    }\n",
       "</style>\n",
       "<table border=\"1\" class=\"dataframe\">\n",
       "  <thead>\n",
       "    <tr style=\"text-align: right;\">\n",
       "      <th></th>\n",
       "      <th>Belief (Negative)</th>\n",
       "      <th>Plausibility (Negative)</th>\n",
       "      <th>Belief (Positive)</th>\n",
       "      <th>Plausibility (Positive)</th>\n",
       "    </tr>\n",
       "    <tr>\n",
       "      <th>ID</th>\n",
       "      <th></th>\n",
       "      <th></th>\n",
       "      <th></th>\n",
       "      <th></th>\n",
       "    </tr>\n",
       "  </thead>\n",
       "  <tbody>\n",
       "    <tr>\n",
       "      <th>13114-72-2</th>\n",
       "      <td>0.632821</td>\n",
       "      <td>0.800057</td>\n",
       "      <td>0.199943</td>\n",
       "      <td>0.367179</td>\n",
       "    </tr>\n",
       "    <tr>\n",
       "      <th>86-57-7</th>\n",
       "      <td>0.107366</td>\n",
       "      <td>0.394598</td>\n",
       "      <td>0.605402</td>\n",
       "      <td>0.892634</td>\n",
       "    </tr>\n",
       "    <tr>\n",
       "      <th>583-39-1</th>\n",
       "      <td>0.580615</td>\n",
       "      <td>0.759772</td>\n",
       "      <td>0.240228</td>\n",
       "      <td>0.419385</td>\n",
       "    </tr>\n",
       "    <tr>\n",
       "      <th>2185-92-4</th>\n",
       "      <td>0.089414</td>\n",
       "      <td>0.380745</td>\n",
       "      <td>0.619255</td>\n",
       "      <td>0.910586</td>\n",
       "    </tr>\n",
       "    <tr>\n",
       "      <th>32425-83-5</th>\n",
       "      <td>0.150998</td>\n",
       "      <td>0.428266</td>\n",
       "      <td>0.571734</td>\n",
       "      <td>0.849002</td>\n",
       "    </tr>\n",
       "    <tr>\n",
       "      <th>98-37-3</th>\n",
       "      <td>0.667999</td>\n",
       "      <td>0.827201</td>\n",
       "      <td>0.172799</td>\n",
       "      <td>0.332001</td>\n",
       "    </tr>\n",
       "  </tbody>\n",
       "</table>\n",
       "</div>"
      ],
      "text/plain": [
       "            Belief (Negative)  Plausibility (Negative)  Belief (Positive)  \\\n",
       "ID                                                                          \n",
       "13114-72-2           0.632821                 0.800057           0.199943   \n",
       "86-57-7              0.107366                 0.394598           0.605402   \n",
       "583-39-1             0.580615                 0.759772           0.240228   \n",
       "2185-92-4            0.089414                 0.380745           0.619255   \n",
       "32425-83-5           0.150998                 0.428266           0.571734   \n",
       "98-37-3              0.667999                 0.827201           0.172799   \n",
       "\n",
       "            Plausibility (Positive)  \n",
       "ID                                   \n",
       "13114-72-2                 0.367179  \n",
       "86-57-7                    0.892634  \n",
       "583-39-1                   0.419385  \n",
       "2185-92-4                  0.910586  \n",
       "32425-83-5                 0.849002  \n",
       "98-37-3                    0.332001  "
      ]
     },
     "metadata": {},
     "output_type": "display_data"
    }
   ],
   "source": [
    "RF.qsar_show_components(selection='BP')"
   ]
  },
  {
   "cell_type": "code",
   "execution_count": 11,
   "metadata": {},
   "outputs": [
    {
     "data": {
      "image/png": "[encoded data removed]",
      "text/plain": [
       "<Figure size 600x400 with 1 Axes>"
      ]
     },
     "metadata": {},
     "output_type": "display_data"
    }
   ],
   "source": [
    "RF.qsar_visualise_single_evidence(compound = 2, visualise_threshold = 0.5)"
   ]
  },
  {
   "cell_type": "markdown",
   "metadata": {},
   "source": [
    "### Multiple evidence class"
   ]
  },
  {
   "cell_type": "code",
   "execution_count": 12,
   "metadata": {},
   "outputs": [
    {
     "name": "stdout",
     "output_type": "stream",
     "text": [
      "INFO - QSAR Evidence Combinator initiated for the endpoint \"Ames mutagenicity\"...\n"
     ]
    }
   ],
   "source": [
    "Ames_models = QSAR_Evidence_Combinator('Ames mutagenicity')"
   ]
  },
  {
   "cell_type": "code",
   "execution_count": 13,
   "metadata": {},
   "outputs": [
    {
     "name": "stdout",
     "output_type": "stream",
     "text": [
      "INFO - Adding evidence from QSAR model with identifier RF ...\n",
      "INFO - Adding evidence from QSAR model with identifier XGBOOST ...\n",
      "INFO - Adding evidence from QSAR model with identifier SVM ...\n"
     ]
    }
   ],
   "source": [
    "Ames_models.add_evidence(RF)\n",
    "Ames_models.add_evidence(XGBOOST)\n",
    "Ames_models.add_evidence(SVM)"
   ]
  },
  {
   "cell_type": "code",
   "execution_count": 14,
   "metadata": {},
   "outputs": [
    {
     "name": "stdout",
     "output_type": "stream",
     "text": [
      "INFO - Test set defined...\n"
     ]
    }
   ],
   "source": [
    "Ames_models.upload_test(test_set=t)"
   ]
  },
  {
   "cell_type": "code",
   "execution_count": 15,
   "metadata": {},
   "outputs": [
    {
     "name": "stdout",
     "output_type": "stream",
     "text": [
      "INFO - Considering individual weights of evidence...\n",
      "INFO - Computing ground probability masses...\n",
      "INFO - Combining evidence...\n",
      "INFO - No rule selected, combining evidence using all rules...\n"
     ]
    }
   ],
   "source": [
    "Ames_models.combination(rule_selection=None, WoE=True)"
   ]
  },
  {
   "cell_type": "code",
   "execution_count": 16,
   "metadata": {},
   "outputs": [
    {
     "data": {
      "text/html": [
       "<div>\n",
       "<style scoped>\n",
       "    .dataframe tbody tr th:only-of-type {\n",
       "        vertical-align: middle;\n",
       "    }\n",
       "\n",
       "    .dataframe tbody tr th {\n",
       "        vertical-align: top;\n",
       "    }\n",
       "\n",
       "    .dataframe thead th {\n",
       "        text-align: right;\n",
       "    }\n",
       "</style>\n",
       "<table border=\"1\" class=\"dataframe\">\n",
       "  <thead>\n",
       "    <tr style=\"text-align: right;\">\n",
       "      <th></th>\n",
       "      <th>Negative</th>\n",
       "      <th>Uncertain</th>\n",
       "      <th>Positive</th>\n",
       "    </tr>\n",
       "  </thead>\n",
       "  <tbody>\n",
       "    <tr>\n",
       "      <th>RF</th>\n",
       "      <td>0.580615</td>\n",
       "      <td>0.179158</td>\n",
       "      <td>0.240228</td>\n",
       "    </tr>\n",
       "    <tr>\n",
       "      <th>XGBOOST</th>\n",
       "      <td>0.543617</td>\n",
       "      <td>0.210718</td>\n",
       "      <td>0.245665</td>\n",
       "    </tr>\n",
       "    <tr>\n",
       "      <th>SVM</th>\n",
       "      <td>0.517150</td>\n",
       "      <td>0.482850</td>\n",
       "      <td>0.000000</td>\n",
       "    </tr>\n",
       "    <tr>\n",
       "      <th>Dempster</th>\n",
       "      <td>0.963506</td>\n",
       "      <td>0.007198</td>\n",
       "      <td>0.029296</td>\n",
       "    </tr>\n",
       "    <tr>\n",
       "      <th>Yager</th>\n",
       "      <td>0.568873</td>\n",
       "      <td>0.413830</td>\n",
       "      <td>0.017297</td>\n",
       "    </tr>\n",
       "  </tbody>\n",
       "</table>\n",
       "</div>"
      ],
      "text/plain": [
       "          Negative  Uncertain  Positive\n",
       "RF        0.580615   0.179158  0.240228\n",
       "XGBOOST   0.543617   0.210718  0.245665\n",
       "SVM       0.517150   0.482850  0.000000\n",
       "Dempster  0.963506   0.007198  0.029296\n",
       "Yager     0.568873   0.413830  0.017297"
      ]
     },
     "execution_count": 16,
     "metadata": {},
     "output_type": "execute_result"
    }
   ],
   "source": [
    "Ames_models.return_results(mol='583-39-1')"
   ]
  },
  {
   "cell_type": "code",
   "execution_count": 17,
   "metadata": {},
   "outputs": [
    {
     "name": "stdout",
     "output_type": "stream",
     "text": [
      "INFO - Showing results for: 583-39-1\n"
     ]
    },
    {
     "data": {
      "image/png": "[encoded data removed]",
      "text/plain": [
       "<Figure size 850x660 with 1 Axes>"
      ]
     },
     "metadata": {},
     "output_type": "display_data"
    }
   ],
   "source": [
    "Ames_models.visualise(mol='583-39-1')"
   ]
  }
 ],
 "metadata": {
  "kernelspec": {
   "display_name": "Python (dst)",
   "language": "python",
   "name": "dst"
  },
  "language_info": {
   "codemirror_mode": {
    "name": "ipython",
    "version": 3
   },
   "file_extension": ".py",
   "mimetype": "text/x-python",
   "name": "python",
   "nbconvert_exporter": "python",
   "pygments_lexer": "ipython3",
   "version": "3.11.0"
  }
 },
 "nbformat": 4,
 "nbformat_minor": 2
}
