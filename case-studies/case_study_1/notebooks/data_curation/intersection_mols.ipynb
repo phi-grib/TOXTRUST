{
 "cells": [
  {
   "cell_type": "code",
   "execution_count": 1,
   "id": "1099a1de",
   "metadata": {},
   "outputs": [],
   "source": [
    "import pandas as pd\n",
    "import numpy as np\n",
    "\n",
    "import rdkit\n",
    "from rdkit import RDConfig, Chem\n",
    "from rdkit.Chem import PandasTools, inchi\n",
    "\n",
    "import random\n",
    "import os"
   ]
  },
  {
   "cell_type": "code",
   "execution_count": 2,
   "id": "58d90c7c",
   "metadata": {},
   "outputs": [],
   "source": [
    "sdfFile_1 = os.path.join(RDConfig.RDDataDir,r\"G:\\My Drive\\UPF\\projects\\dst\\tox_evidence_combination_DST\\data\\curated\\hakura_ames_curated.sdf\")\n",
    "sdfFile_2 = os.path.join(RDConfig.RDDataDir, r\"G:\\My Drive\\UPF\\projects\\dst\\tox_evidence_combination_DST\\data\\curated\\hansen_ames_curated.sdf\" )\n",
    "sdfFile_3 = os.path.join(RDConfig.RDDataDir, r\"G:\\My Drive\\UPF\\projects\\dst\\tox_evidence_combination_DST\\data\\curated\\predeep_ames_curated.sdf\")\n",
    "sdfFile_4_test = os.path.join(RDConfig.RDDataDir,r\"G:\\My Drive\\UPF\\projects\\dst\\Evidence\\Gentox\\QSAR_selection\\test_Hansen.sdf\")\n",
    "\n",
    "df_Hakura = PandasTools.LoadSDF(sdfFile_1, smilesName='smiles',molColName='molecule', includeFingerprints=True)\n",
    "df_Hansen = PandasTools.LoadSDF(sdfFile_2, smilesName='smiles',molColName='molecule', includeFingerprints=True)\n",
    "df_Predeep = PandasTools.LoadSDF(sdfFile_3, smilesName='smiles',molColName='molecule', includeFingerprints=True)\n",
    "df_test = PandasTools.LoadSDF(sdfFile_3, smilesName='smiles',molColName='molecule', includeFingerprints=True)"
   ]
  },
  {
   "cell_type": "code",
   "execution_count": 3,
   "id": "7b6be731",
   "metadata": {},
   "outputs": [],
   "source": [
    "inchi_key = lambda mol : inchi.MolToInchiKey(mol)\n",
    "\n",
    "df_Hakura['inchi'] = [inchi_key(mol) for mol in df_Hakura['molecule']]\n",
    "df_Hansen['inchi'] = [inchi_key(mol) for mol in df_Hansen['molecule']]\n",
    "df_Predeep['inchi'] = [inchi_key(mol) for mol in df_Predeep['molecule']]"
   ]
  },
  {
   "cell_type": "code",
   "execution_count": 4,
   "id": "73e42be4",
   "metadata": {},
   "outputs": [
    {
     "data": {
      "text/plain": [
       "[]"
      ]
     },
     "execution_count": 4,
     "metadata": {},
     "output_type": "execute_result"
    }
   ],
   "source": [
    "intersection =  list(set(df_Hansen['inchi']).intersection(df_Predeep['inchi'], df_Hakura['inchi']))\n",
    "intersection"
   ]
  },
  {
   "cell_type": "code",
   "execution_count": 5,
   "id": "93ed850b",
   "metadata": {},
   "outputs": [
    {
     "data": {
      "text/plain": [
       "1416"
      ]
     },
     "execution_count": 5,
     "metadata": {},
     "output_type": "execute_result"
    }
   ],
   "source": [
    "intersection2 =  list(set(df_Hansen['inchi']).intersection(df_Predeep['inchi']))\n",
    "len(intersection2)"
   ]
  },
  {
   "cell_type": "code",
   "execution_count": 36,
   "id": "25daee55",
   "metadata": {},
   "outputs": [],
   "source": [
    "selected = random.sample(intersection2,6)"
   ]
  },
  {
   "cell_type": "code",
   "execution_count": 37,
   "id": "d7460980",
   "metadata": {},
   "outputs": [],
   "source": [
    "selected_test_hansen = df_Hansen[df_Hansen['inchi'].isin(selected)]\n",
    "selected_test_predeep = df_Predeep[df_Predeep['inchi'].isin(selected)]"
   ]
  },
  {
   "cell_type": "code",
   "execution_count": 42,
   "id": "9ac2a8a3",
   "metadata": {},
   "outputs": [],
   "source": [
    "selected_cas = selected_test_hansen.CAS.to_list()"
   ]
  },
  {
   "cell_type": "code",
   "execution_count": 39,
   "id": "b2848bb1",
   "metadata": {},
   "outputs": [
    {
     "data": {
      "text/html": [
       "<div>\n",
       "<style scoped>\n",
       "    .dataframe tbody tr th:only-of-type {\n",
       "        vertical-align: middle;\n",
       "    }\n",
       "\n",
       "    .dataframe tbody tr th {\n",
       "        vertical-align: top;\n",
       "    }\n",
       "\n",
       "    .dataframe thead th {\n",
       "        text-align: right;\n",
       "    }\n",
       "</style>\n",
       "<table border=\"1\" class=\"dataframe\">\n",
       "  <thead>\n",
       "    <tr style=\"text-align: right;\">\n",
       "      <th></th>\n",
       "      <th>CAS</th>\n",
       "      <th>result</th>\n",
       "      <th>smiles</th>\n",
       "      <th>molecule</th>\n",
       "    </tr>\n",
       "  </thead>\n",
       "  <tbody>\n",
       "    <tr>\n",
       "      <th>0</th>\n",
       "      <td>13114-72-2</td>\n",
       "      <td>0</td>\n",
       "      <td>CNC(=O)N(c1ccccc1)c1ccccc1</td>\n",
       "      <td><img data-content=\"rdkit/molecule\" src=\"data:image/png;base64,iVBORw0KGgoAAAANSUhEUgAAAMgAAADICAIAAAAiOjnJAAAABmJLR0QA/wD/AP+gvaeTAAAYWElEQVR4nO2de1hVVRrG3wNHEAEVLNHSUCG8oSMiTnjJHtFqTBlNZgzHJvICKXkhlVREVCaEHC+UmDc0LW+Y17BBpfEC6qjEOEpMhjUCPoooFDe5HM5Z88e24+FwtiBnrbXPZf+e/pB1zrO+j6fX7d57fd/7KQghkJGhjY3UCchYJrKwZJggC0uGCbKwZJggC0uGCbKwZJggC0uGCUrO8YqLi69cuTJ16lQOsfz9/WNiYnx8fDjEktFDwfkFaUhIyP79+2tqajjEat++fWVl5dWrV/v27cshnIwuXIX13XffDR48WKlUnjlzpkePHqzDRUVFJScnBwQEpKens44low/hhUajGTZsGIDFixfziVhSUtKhQwcAR48e5RNRRgs/Ye3atQuAm5tbWVkZt6CJiYkAPDw8ampquAWVIdyEVVVV9cILLwD4/PPP+UQUUKlU/fr1A5CQkMAzrgwnYUVFRQHw9fVVq9V8ImoRbrCcnZ3v3LnDObQ1w+PmvbCwsFevXtXV1efOnRNus/R4/vnn6+vrjQ80f/78yMjIxuuBgYFff/31tGnTtm3bZnwUmWbBQbxBQUEApkyZIvYFW1tbKr9LdHS0wf1v3rxpb29vY2Nz+fJlZr+lTAOYX7EyMzNffvllBweH//73v8JtVmOKi4uppOHk5OTo6Gjwo8jIyNWrV/v7+58/f16hUBgfS6YJmMpWrVb7+voCiI2NZRqoScrLyzt37gxgz5490mZiJbAV1qZNmwB07dq1qqqKaaDmINxgdenSpbKyUupcLB+GwiorK+vUqROAAwcOsIvSfNRqtZ+fH4CYmBipc7F8GAorIiICwNChQzUaDbsoT4Vwg+Xg4HDr1i2pc7FwWAkrLy/Pzs7OxsYmKyuLUYiW8dZbbwF46623pE7EwmElrD/84Q8AwsLCGO3fYgoLC4Unx7Nnz0qdiyXDRFjHjx8H0LZt27t377LY30hiYmIA+Pj48D8GsB7oC6uurq5nz54A1q5dS31zKjx8+NDd3R3Atm3bpM7FYqEvrDVr1gDw9PQ05YKCPXv2AOjYseOvv/4qdS6WCWVhFRcXt2/fHsDx48fp7kydl19+GcDChQulTsQyoSys0NBQAKNHj6a7LQuys7NtbGzs7Oxu3LghdS4WCE1hXb161dbWVqlU5uTkUNyWHdOmTQMwbtw4qROxQGgK65VXXgEQERFBcU+m3Lt3r127dgD+8Y9/SJ2LpUFNWCkpKQBcXV1LSkpo7cmBhIQEAL17966rq5M6F4uCjrCqq6u7desGYNOmTVQ25EZtba2XlxeAxMREqXOxKOgIa+XKlQB+97vf1dfXU9mQJ0ePHgXg4uJy//59qXOxHCgI6/bt28IhyenTp43fTRJef/11ALNmzZI6EcuBgrCmTJkCICgoyPitpCI3N7dVq1a2trb/+c9/pM7FQjBWWBcvXlQoFK1bt/7555+pJCQVs2fPBjBy5EipE7EQjBKWRqMZPHgwgKVLl9JKSCpKS0ufeeYZAIcOHZI6F0vAKGF9+eWXAJ5//vmKigpaCUnIhg0bAHh4eKhUKqlzMXuM8sfq2bNnt27dhgwZ4uTkZLBNw5jN2SGWWHBwsLOzc0BAAOd8LBKjhFVbW5ufn3/8+PGCggK9j1JTU729vXNzc43ZnxHTp08PCwt78OCB3np8fHxFRcX169dp9TlaNUZe8cSaUWfOnAkgICDAyP2pk5WVJZw9//jjj7rrclMrXYwVVkFBQZs2bRQKRUZGhu661kLo2LFjRoagyBOslMaNGwdg2rRpkiRmeVB4j7V06VIAAwcO1Kv0Xb9+PUzMQuiLL76AISsl2TiEOhSEJWZRpFKpvL29Aaxevdr4KMbTZJ4ff/yxVLlZHnTOCs3iSiB2ZZXN2VhAR1hPuHcZO3YsgOnTp1MJ1GKavBeU7STpQq0ey8SftsSeXmfNmmWaT6/mDs0K0nfeeQfAhAkT9NYXLFgAYMiQIVL12mdmZgqd9fn5+brr33//vVKpVCqV165dkyQxC4amsIqKitq2bQvgxIkTuutaC6F9+/ZRDNdMtFZKK1eu1Pvo1VdfBTBnzhz+WVk8lLt04uLiAPTp00fvuG3r1q2QyEJIzErp0KFDAFxdXR88eMA5JWuAsrBqa2tffPFFAElJSbrrarV60KBBAJYvX0434pPRWimlpKQ0J08ZWtDvhD548KDBK4EkFkJiVkpiV1YZWjAxBRG7d5k0aRKA4OBgFkEbk5eXJzyQ6lkpid0LylCEibDEnrY4WwiNGTMGQGhoqN662NOrDEVY+WOJvR/iZiF08uRJGLJS+u677wy+b5OhCythiVU3aC2EkpOTGYUmhKhUKmGU3Jo1a3TXtScEixYtYhddhjD1IBWrbti9ezcYWwitXbsWhqyUxM40ZajDUFhiVQMajWb48OEAIiMjWcQtKSlxdXUFkJqaqruurW7YsWMHi7gyurD1eRerbmBqIRQWFgZg1KhReuti1Q0yLGA+S0esMlMYCx0YGEg3XE5OjvBAqmelJFbdIMMI5sISq264e/du586dP/roI7on099///2IESPmzp2rt97koCgZuvCY/iVW3cCusK62tlb3R7HqBhl28BCWtrph7969HMLp8YTqBhl2cJqwaoLVDWaGRkOuXSOpqeT0aVJeLnU2TcNJWFINSBKrbjAzrl8n/fsTW1vi6UnatSOtW5MVK4jJTCgyCL8p9iZV3WBOlJSQ554jgYGktPTRyoEDxM6OmOp8BgF+wiImU91gZqxeTRwdyb17DRbDw8mzzxITrvnhMWxcy+3bt3v16lVVVRUXFyec5TElPj7+4sWLoaGhmzdvZh2LIWPHoq4OJ082WPz2W4wahWvX0K+fRGk1BWchx8TEdO/enc+v5ubm5uDgYJqDop6CwYNJSIj+4o0bBCCnTkmRULNQ8vl/rGXx4sVBQUFLlixhHYgQkpGRUV1dnZaWFhISwjocQ+ztUV6uv1hWBgCtW/NPp7lIrWyGCL5wZl/LEBZGevXSX9yxgygUxITbQCxZWBZSfXXmDAGIbqN2bS3p35+MGSNdTk3D9eadP9nZ2X5+fsKZtNCWYzZ88w1Gj0arVgAQHo5duzBnDvz8UFyMnTvx88/IyICnp9RZiiO1spkj3GCNHz9e6kSehowMolAQX18iVPhoNGTPHjJmDOndmwweTBYsICb/RGL5wjK/nhy1mvj5EYDwPaWgi+ULixCyatUqmFEX4datBCBduhDu56oUsQphafueN2zYIHUuTVFeTjp3JgDRqwSprSX+/mT9emIm04qsQljkN6cGFxcXU3dqWLiQAMTfX/+MOT6eAKR3b2Im4++sRVjELLxlbt4k9vbExoboeYkVFZF27QhA0tIkyuypsSJhmYEb1rhxBCCNnZvffZcA5I9/lCKnFmJFwiKEzJo1y87OLixsu9SJGCI9nQDE2Zno+bVmZxMbG2JnR8xqKLp1Cev+/Qf9+/8IEFMynyeEEKJSkX79CED0nJs1GjJ8OAEImx5MdliXsAghiYkEIB4exLQsksXS2r2bAKRjR8Ksa5wRVicslYp4exu4NEhJSQnp0EH/QJAQ8vAhcXcnAGHpc8EIqxMWEb+ZkYo70dEEIKNH63+wbBkBiI8PMcPWbWsUFhF//OLP9evXlUpl9ODB6oat26SwkDg6EoCcOydRakZhpcISe2HEH+Ht2uzZs/U/mDSJAIRXfwB1rFRYRPwVN09EzwPOnycKBXFwIBw7muhivcISO5TjhtgJplqtXhQYWDpggFzdYK5IW0YgVnOxbds2AF27dq0159ZtqxaWhIVPTU7xkMTngiJWLSwi3c2MWF2r5HOHaGHtwiK/PX7x7LcQc242kUlpVJCFRfLzyZYt/N5BPqF3yERmO1JBFhYhhKxaRVxciO5ssm++IS4uTKo1xbodTWoarfHYcG0JMlVqalBRgYiIRw3GAFQq/PIL/UDV1dVCF3h8fLxw8y5QX18/b948ANHR0cLNu7kjC+sRAwfCzQ1RUWyjbNmypaCgYNCgQX/9619115OSknJycjw8PObMmcM2A17w9m4wWWxs8OmneOUVTJmCl15iFSU8PNzOzm7AgAE2No//SpeWlsbGxgJYt26dvb09q9h8kYX1mGHDEBSE8HBcvvxopbAQT2WN07ate3l5QTO/vHPnzhEjRri7u0dHR5eUlAQEBAjW5ZaB/E9hA9auRV4eNm7kEWvq1Knz5s3Lzc3dsmWLUqlct24dj6i8kIXVgOeew4oVWL4cpaUA0LUrCHmK/8rKmmv3XVRU5OjoeOTIkbS0tO7du8+cObOfyVqotQymz5zmQkwMeemlR39WqUj//qRnTwKwbQ7VnhVWVVVVVFQwjCQF8hVLH6USGzfixx+ZB/rggw9efPHF3NzcHTt2ODk5MY/HF1lYANC6NZydH/84dChmzICLC9ugdnZ2CQkJAISbd7bBuCMLCwUF6NABaWkNFjdvRmkpbG3Zhp4wYcKrr776yy+/rFixgm0k/kj9b7H08D+E1kXoz7a1tTXd/uwWYe1XrAsXkJICBwe89540CfTp0ycsLEytVgtHOpaD1MqWErWaDBpEALJ8uZRplJaWCvOzj+r1FZozVi2sLVtMxeEsMTERhuZnmy/WK6zyctKpEwEaVMtIhUqlEl6QJiQkSJ0LHaxXWAsWEIAMGWIqU7ROnDgBoEOHDkVFD6XOhQIWbsctxk8/oW9fqFT417/g5yd1Nr8xc2ZcWlrQyJFeyclSp2I0ViqsceOQmorp07F1q9Sp6GCacm8Z1vi6IT0dqalwdsbKlVKn0hAPD8yZA40Gc+fC3P++W52w6usREQEAy5bBBGuAo6PRuTMuXsS+fVKnYhxWJ6ykJOTkwMMDs2dLnYohnJ0RGwsAkZGoqpI6GyOwLmE9eFCyfXsegHXrYLI1wO++Cz8/3L6N1aulTsUYpH4s5YpJm9vqcOHCo/7s//1P6lRaihUJKycnR7Djvn79utS5NE1wMAHIpElS59FSrEhYo0ePBjB37lypE2kWWkO/s2elTqVFWIuwDh48CMDV1dXUR57osHz5IwtSMxmf0wCrEJbW4iwpKUnqXJ4CrWny1q1Sp/L0WIWwPvroI5jRWDkd9u41U5t3KzgrvHfvnpeXV3l5+YkTJwQnWTOCEAQF4bXXMG0a8zppulj+e6zIyMjy8vI333zTxFU1YwbS0xus7N+PxYuRkoL0dPztbw0+WrgQX33FM7unR+pLJluysrIMWpyZIO3bk40bG6wsXkz69SN1dQQgAElPf/xR//4SV702iSVfsQgh8+bN02g08+fPN7MR9o0YOhSzZqG2Vuo8mo0lC+vLL7/MzMx0c3NbtGiR1LkYy/z5qKpCfLzUeTQb3m4ztbW1eXl5ixcvZh2IEJKZmYlGFmemzD//iZqaxz9eufL4z05OSEjA9OmYPBnai+/69fj22+Zu3q3bv2/dWtbML/v4+Kw0rqiIt7Di4uJ27dp169YtDrHc3Nzq6upef/11DrGocPMm1OrHPxYWws7u8Y+TJ2PbNsyahVOnHq38+99ITW3u5iNGaM6ebe63a3QF3iK4CquwsPDvf/97dXX1qlWr+vbtyzpcfHz8hQsXli1btmXLFtaxqBAaipkzH/+4ZEkD3SgUSErCgAE4fPjRSkQEgoKau7m9vdv8+cea+eVnn322ufuKwfNJ4c9//jOAyZMn8wmXl5cnuFtfuXKFT0RjePJT4cmTjxYjI4mnJ+nVS34q/I3z588fOHDAwcEhLi6OT0RPT8/3339fo9EIB898grJm2TLU1eGHH6TOoyk4CUuj0cybN48QsmjRInd3dz5BAcTExHTq1OnChQsHDhzgFpQpjo4wD+s/PhdG4S6nS5cuVdwHDwmhu3btyj/0U3HuHLl9u8HKTz+RS5eIRkNOnSIlJQ0+On2a/PQTz+yeGh5nhRUVFV5eXkVFRfv27Zs0aVLjL4wfP16t+zjUUoKDgydPnqy3qNFofv/732dlZa1YsWLZsuY+b8sYCwfxzp8/H08cPGRL6Xw1Ojra4P6ZmZkKhcLBweGW2c6VNDuYX7Fu3rzp7e2tUqkuXbo0aNAgg985fvy4RqMxPpaXl1fPnj0NfjRp0qSUlJTJkyfv3r3b+EAyTcNauW+88QaAGTNmsA70ZAoKCtq0aaNQKM6Z5+xus4OtsE6dOgXA2dn57t27TAM1h+joaAADBw5Uc5v0ZcUwFJZKpfL29gawevVqdlGaz8OHD1944QUA27ebevuXBcBQWMKoBZMyE9OOdPvV7Ep9zQ1WwiopKRHsD7/++mtGIVqARqMZPnw4gA8//FDqXCwcVsJ67733AIwaNYrR/i1GbGyuDF2YCMvEe47FBn3LUISJsEy857ioqEgo/UtLS5M6F4uFvrC++uormHzPsXZAUl1dndS5WCaUhVVTU+Pp6Qlgo15tkYmh7Y3+9NNPpc7FMqEsLKHnuG/fvqbfc3z48GEALi4upnxlNV9oCkt773JSW+9o2ggtrLNnz5Y6EQuEprCEyexvvvkmxT2ZYqkDkkwBasIyo55jXcLDwwGMHDlS6kQsDTrC0mg0Q4cOBbBkyRIqG3JDOyDpyJEjUudiUdAR1q5du4QzuLKyMiob8uSTTz4B0KNHD9M507QAKAirqqpKqBrYuXOn8bvxp76+3sIGJJkCFIQVFRUFwNfX13zrnNLT04W6sTt37kidi4VgrLDy8/OFysyMjAwqCUlFYGAggKlTp0qdiIVgrLAmTpwI4O2336aSjYTcvHlTaJu+dOmS1LlYAkYJKyMjQ6FQtGnTJj8/n1ZCEhIZGQnA399frJtIpvkY1QndunVrd3f3N954Q7h5N3c+/PBDZ2fnfv36UWlytHKMEtaNGzdu3bp14cKFyspKvY/y8/NDQkLu379vzP6MSExMTE5Obtxwtnfv3oqKim+bbzkl8wSMudwJTcYAoqKi9D4aP348gNDQUGP2Z4H2aePy5cu666Wlpc888wyAw4cPS5WbJWHszfvFixcVCoW9vX1eXp7uel5enp2dnY2NTVZWlpEh6CL0+AcHB+utv//++5DPduhB4T3W22+/DWDixIl66xEREQCGDh1qOvfC58+fN9hrn5ub26pVK/k0miIUhHX79m0nJyc0qpYpKyvr1KkTgJSUFOOjGI9arRZ6/Jc38ix77bXXAISHh0uSmEVC56wwNjYWhur7Nm3aBJOxENq6dSuALl26VFZW6q4fOXIEgIuLy/3796XKzfKgI6zq6uru3bsD+Oyzz3TX1Wq1r68vgNjYWCqBWkx5eXnnzp0B7N27V3e9trbWy8sLwCeffCJVbhYJtXoswTKvcQ+FYCEk+UvUBQsWwJCVUnx8PIDevXvLXRV0oVlBKnR9CZaQugQFBQGYMmUKxVhPhfa4Ru8Vw71799q1awe5D4wBNIWl7VPNycnRXddaCEl1UD127FgA06dP11ufOnUqgMDAQEmysmwod+mEhYXBUGf90qVLIZGFkFhJTHZ2tlBLfePGDc4pWQOUhVVSUuLq6gogNTVVd11bDLhjxw66EZ+M1krp448/1l3XuoNERkbyzMd6oN8JvXbtWgCenp56lb5ffPEFuJcvr1+/HoaslATDyI4dO8p+RoygLyyVSiWMM1mzZo3uukajGTZsGIBFixZRD2oQrZXSsWPHdNcfPnwoeM0nJyfzycQKYWIKIjhEtm3bVs8hkrOF0MyZMwEEBATorcfExADw8fEx31pq04eVP9aYMWMMVje88847ACZMmMAorhahGbWxlVJhYaGjoyOAs2fPss7BmmElLLEBSdo2/BMnTjAKLSC0z8+ZM0dvXay6QYYuDD1IP/jgA4PVDcKQpj59+rAzDjl48KDBYwCx6gYZ6jAUllh1g9ZCaMOGDSziavdPSkrSXX9CdYMMddj6vG/evNlgdcOhQ4fAzEJIsFJqfEUUq26QYQFbYWmrG1auXKn3kdg9kJGI3cOJVTfIMIL5yBPtgCS96oZr164plcqJEyfSfeY/c+aMm5tbY+NaseoGGUbwmP71pz/9CcBf/vIXvfUffviBRbiysjK992di1Q0y7OAhLJOtbpBhB6cJqyZY3SDDFE7CMrXqBhnWcBIWMbHqBhnW8BOW6VQ3yHCAx7BxLdnZ2X5+fkql8syZMz169GAdbsmSJdu3bw8ICBBus2R4wlVYAEJCQvbv319TU8MhVvv27SsrK69evSrUh8nwhLewiouLr1y5InQxsMbf3z8mJsbHx4dDLBk9eAtLxkowyh9LRkYMWVgyTJCFJcMEWVgyTJCFJcMEWVgyTJCFJcOE/wMmH3U9o6G7agAAAPR6VFh0cmRraXRQS0wgcmRraXQgMjAyMC4wOS4xAAB4nJ2PPQ7CMAyFUydN2qZ/IFTWTKi3aJaKa2SMmFjZOAtDxQJHIL0BKxNX4AqkDTQdEU+y/PzJlu3X7fJEVqmNADktbCxtHAOK1MAxQ9pmDBbUgyGRy8BcxlQ6TuXYiIPfzB9D3J4ZgABcAxBBQhFSDZQpFmmIYhUnGggXPNWQZirLNeSFKkoNSahKrlZAKYviJKRplhclX39/Hp4+y2p36F25n3kp2+1m4qe2M873jeeymXM0aeSfWhrvezPrMX5WNrO9xvvetNtu4tfHfdrr/XCP66neweVB5BFSi5sAAAEjelRYdE1PTCByZGtpdCAyMDIwLjA5LjEAAHicrZIxa8MwEIV3/4rbukTiTrYs31x3ClWgQ/dCDQmkpZR0yL/vWdTnDBHUtoQw7/R8H++E4oP5GC7H69nEXTTvp6/j8Hk9/3wPbxWM66Xfny6gy/VVBRSAOgC8u5kZXh0ipn5vnUc5BlPbjgONZ2jFRXiEHOJ2J0ptQ44Sl1BSh1Cc9dxtzkLWMeMN5fB/Clmfy7JgIsxnWTCRZpl6V1E0C2zIYspQikxkytwu5t/uqixbKPOr85a4dVuztLZhv44CZSglJpLLdOk7FqJqLUQ16eiv8OqIarUQFfQ3UZ06olgdBsLJEUWkjgfSBKKonhxR1KjTAHl1pEcTiCJNMHJnJ8zoZ4Cn2Fe/A3nv04jqjpYAAACDelRYdFNNSUxFUyByZGtpdCAyMDIwLjA5LjEAAHicXY1LDoAgDESv4hIS2tBixca4Yo+H4Boe3mgAxa765pNJOZn9sNkUKveRbc90GkEWBwFXjeS2gPFLDhhF124QsqrbCOV1/N/xVasSDFADMLT8sAo/fNYESRfu5oKzCrdmo2/Snhf+yTNrIgf5YAAAAABJRU5ErkJggg==\" alt=\"Mol\"/></td>\n",
       "    </tr>\n",
       "  </tbody>\n",
       "</table>\n",
       "</div>"
      ],
      "text/plain": [
       "          CAS result                      smiles  \\\n",
       "0  13114-72-2      0  CNC(=O)N(c1ccccc1)c1ccccc1   \n",
       "\n",
       "                                            molecule  \n",
       "0  <img data-content=\"rdkit/molecule\" src=\"data:i...  "
      ]
     },
     "execution_count": 39,
     "metadata": {},
     "output_type": "execute_result"
    }
   ],
   "source": [
    "merged = pd.merge(selected_test_hansen,selected_test_predeep, how = 'inner', on = 'inchi' )\n",
    "merged2 = merged.drop(columns=['ID_x', 'smiles_x','molecule_x','inchi','casrn', 'assay_result_num','compound_class','structure_curated_y','data_quality','ID_y','smiles_y'])\n",
    "merged2.rename(columns={'structure_curated_x':'smiles','molecule_y':'molecule' },inplace=True)\n",
    "merged2.head(1)"
   ]
  },
  {
   "cell_type": "code",
   "execution_count": 43,
   "id": "db342d51",
   "metadata": {},
   "outputs": [
    {
     "data": {
      "text/html": [
       "<div>\n",
       "<style scoped>\n",
       "    .dataframe tbody tr th:only-of-type {\n",
       "        vertical-align: middle;\n",
       "    }\n",
       "\n",
       "    .dataframe tbody tr th {\n",
       "        vertical-align: top;\n",
       "    }\n",
       "\n",
       "    .dataframe thead th {\n",
       "        text-align: right;\n",
       "    }\n",
       "</style>\n",
       "<table border=\"1\" class=\"dataframe\">\n",
       "  <thead>\n",
       "    <tr style=\"text-align: right;\">\n",
       "      <th></th>\n",
       "      <th>casrn</th>\n",
       "      <th>assay_result_num</th>\n",
       "      <th>compound_class</th>\n",
       "      <th>structure_curated</th>\n",
       "      <th>data_quality</th>\n",
       "      <th>ID</th>\n",
       "      <th>smiles</th>\n",
       "      <th>molecule</th>\n",
       "      <th>inchi</th>\n",
       "    </tr>\n",
       "  </thead>\n",
       "  <tbody>\n",
       "    <tr>\n",
       "      <th>0</th>\n",
       "      <td>100-00-5</td>\n",
       "      <td>1</td>\n",
       "      <td>organic</td>\n",
       "      <td>O=[N+]([O-])c1ccc(Cl)cc1</td>\n",
       "      <td>nan</td>\n",
       "      <td>1-Chloro-4-nitrobenzene</td>\n",
       "      <td>O=[N+]([O-])c1ccc(Cl)cc1</td>\n",
       "      <td><img data-content=\"rdkit/molecule\" src=\"data:image/png;base64,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\" alt=\"Mol\"/></td>\n",
       "      <td>CZGCEKJOLUNIFY-UHFFFAOYSA-N</td>\n",
       "    </tr>\n",
       "  </tbody>\n",
       "</table>\n",
       "</div>"
      ],
      "text/plain": [
       "      casrn assay_result_num compound_class         structure_curated  \\\n",
       "0  100-00-5                1        organic  O=[N+]([O-])c1ccc(Cl)cc1   \n",
       "\n",
       "  data_quality                       ID                    smiles  \\\n",
       "0          nan  1-Chloro-4-nitrobenzene  O=[N+]([O-])c1ccc(Cl)cc1   \n",
       "\n",
       "                                            molecule  \\\n",
       "0  <img data-content=\"rdkit/molecule\" src=\"data:i...   \n",
       "\n",
       "                         inchi  \n",
       "0  CZGCEKJOLUNIFY-UHFFFAOYSA-N  "
      ]
     },
     "execution_count": 43,
     "metadata": {},
     "output_type": "execute_result"
    }
   ],
   "source": [
    "df_Predeep.head(1)"
   ]
  },
  {
   "cell_type": "code",
   "execution_count": 44,
   "id": "f96a7e95",
   "metadata": {},
   "outputs": [
    {
     "name": "stderr",
     "output_type": "stream",
     "text": [
      "C:\\Users\\karol\\anaconda3\\envs\\jupyter\\lib\\site-packages\\pandas\\core\\frame.py:4174: SettingWithCopyWarning: \n",
      "A value is trying to be set on a copy of a slice from a DataFrame\n",
      "\n",
      "See the caveats in the documentation: https://pandas.pydata.org/pandas-docs/stable/user_guide/indexing.html#returning-a-view-versus-a-copy\n",
      "  errors=errors,\n",
      "C:\\Users\\karol\\anaconda3\\envs\\jupyter\\lib\\site-packages\\pandas\\core\\frame.py:4308: SettingWithCopyWarning: \n",
      "A value is trying to be set on a copy of a slice from a DataFrame\n",
      "\n",
      "See the caveats in the documentation: https://pandas.pydata.org/pandas-docs/stable/user_guide/indexing.html#returning-a-view-versus-a-copy\n",
      "  errors=errors,\n"
     ]
    }
   ],
   "source": [
    "df_Predeep_rest = df_Predeep[~df_Predeep['casrn'].isin(merged2['CAS'])]\n",
    "df_Predeep_rest.drop(['compound_class','smiles', 'inchi', 'data_quality'], inplace=True, axis=1)\n",
    "df_Predeep_rest.rename(columns={'assay_result_num':'result','casrn':'CAS','structure_curated':'smiles', 'ID':'name'}, inplace=True)\n",
    "df_Predeep_rest.reset_index(inplace=True, drop=True)"
   ]
  },
  {
   "cell_type": "code",
   "execution_count": 45,
   "id": "68fbc174",
   "metadata": {},
   "outputs": [
    {
     "name": "stdout",
     "output_type": "stream",
     "text": [
      "<class 'pandas.core.frame.DataFrame'>\n",
      "RangeIndex: 2086 entries, 0 to 2085\n",
      "Data columns (total 5 columns):\n",
      " #   Column    Non-Null Count  Dtype \n",
      "---  ------    --------------  ----- \n",
      " 0   CAS       2086 non-null   object\n",
      " 1   result    2086 non-null   object\n",
      " 2   smiles    2086 non-null   object\n",
      " 3   name      2086 non-null   object\n",
      " 4   molecule  2086 non-null   object\n",
      "dtypes: object(5)\n",
      "memory usage: 81.6+ KB\n"
     ]
    }
   ],
   "source": [
    "df_Predeep_rest.info()"
   ]
  },
  {
   "cell_type": "code",
   "execution_count": 46,
   "id": "7fe95160",
   "metadata": {},
   "outputs": [
    {
     "data": {
      "text/html": [
       "<div>\n",
       "<style scoped>\n",
       "    .dataframe tbody tr th:only-of-type {\n",
       "        vertical-align: middle;\n",
       "    }\n",
       "\n",
       "    .dataframe tbody tr th {\n",
       "        vertical-align: top;\n",
       "    }\n",
       "\n",
       "    .dataframe thead th {\n",
       "        text-align: right;\n",
       "    }\n",
       "</style>\n",
       "<table border=\"1\" class=\"dataframe\">\n",
       "  <thead>\n",
       "    <tr style=\"text-align: right;\">\n",
       "      <th></th>\n",
       "      <th>CAS</th>\n",
       "      <th>result</th>\n",
       "      <th>smiles</th>\n",
       "      <th>name</th>\n",
       "      <th>molecule</th>\n",
       "    </tr>\n",
       "  </thead>\n",
       "  <tbody>\n",
       "    <tr>\n",
       "      <th>0</th>\n",
       "      <td>100-00-5</td>\n",
       "      <td>1</td>\n",
       "      <td>O=[N+]([O-])c1ccc(Cl)cc1</td>\n",
       "      <td>1-Chloro-4-nitrobenzene</td>\n",
       "      <td><img data-content=\"rdkit/molecule\" src=\"data:image/png;base64,iVBORw0KGgoAAAANSUhEUgAAAMgAAADICAIAAAAiOjnJAAAABmJLR0QA/wD/AP+gvaeTAAARu0lEQVR4nO3de1RU5foH8O8Mw/0iF/MWy0TUUgxvlJe8lWiK2kIpj8c6ahw76nKJlmbqUY93UzHkpJ7Cc5KUY1ZKKpmpyQmXK80LoRCpeUNJAa+AgDDDPL8/hh8xG5hmYL97M7Oez1/07uF9n+TLZu9n9uytISIwJjet2gUwx8TBYkJwsJgQHCwmBAeLCcHBYkJwsJgQHCwmBAeLCcHBYkJwsJgQHCwmBAeLCcHBYkJwsJgQHCwmBAeLCcHBYkJwsJgQHCwmBAeLCcHBYkJwsJgQHCwmBAeLCcHBYkJwsJgQHCwmBAeLCcHBYkJwsJgQHCwmBAeLCcHBYkJwsJgQHCwmBAeLCcHBYkJwsJgQHCwmBAeLCcHBYkJwsJgQHCwmBAeLCcHBYkJwsJgQHCwmBAeLCcHBYkJwsJgQHCwmBAeLCcHBYkJwsJgQHCwmBAeLCcHBYkJwsJgQHCwmBAeLCcHBYkLo1C6ANVUPH+LTT3HmDMrLERSEP/0JPXta/928x2J1ycpCly745z/h5YUOHXDmDMLC8P771k+gISJx5TG7ZDQiNBS+vjhyBO7uVYMbN+Kdd3DsGPr3t2YODhar5dgxDBqEtDQMHPj7IBE6dULfvti+3Zo5HPkYa8+ePZmZmcqs1a1btzFjxiizlnBnzwJA9+5mgxoNevas2mQFxwyW0WiMiIi4c+dOenq6Miv27t07ISHhwIEDWq39H7YWFsLdHT4+0vHWrXH8uJVzOGawtm3bdujQoYCAgIULFzo7O4teTq/XJyQk3L17d8eOHZMmTRK9nHDe3igrQ0kJPD3NxgsK0KyZtZOQwykqKmrdujWAnTt3Krbo9u3bAbRs2bKwsFCxRUU5coQA+vFH6XhICP35z1bO4YDBmjdvHoC+ffsajUbFFjUajS+88AKAhQsXKraoKHo9PfUUjR5NlZW/D375JQF0+LCVczhasC5fvuzq6qrVan+s/Qsn2JkzZ7RarYuLy6VLlxReWh6HD9OdO1Vff/89eXrSwIEUF0eJiTR9Orm40IwZ1k/maMF65ZVXAERHR6uy+sSJEwGMHTtWldUbJS+PfHzI15du3qwauXiRpk+nsDAKCaFXXqEvv7RpPofqYx09ejQ8PNzb2/vixYumw6yaHj16JONJYq9evTwlx7ZAfn5+p06dioqKDh06NGzYMLnWUsKUKfjPfzB6NPbvl2dC2aOvFoPB8OyzzwJYu3ZtnS84ffq0PP9kAID09PQ6V1m1ahWALl266PV6kf+7skpPJ62WXFzo4kW5pnScdsOWLVsyMzPbt28/a9asOl/g7e09YMAAuZbz8vKqc3zu3Lnbtm3Lzs7eunXr9OnT5VpOrNmzYTRi1ix06mQ2vn07zp3DkiU2dBmqyZVQdd2/fz8gIADA3r171a6Fdu/eDcDf3//u3btq12KFnTsJoBYt6OFDs/HCQmrVigDatasBszpIsGbMmAHgpZdeUruQKkOHDgUwa9YstQv5I6Wl9NRTBNC//y3d9O67BFDfvtSgro0jBOvnn3/W6XROTk7nz59Xu5YqWVlZOp1Op9NlZmaqXYtF//gHAdSjh1nLioguXyZXV9Jq6dSphk3sCMEynX/NnDlT7ULMmA6whgwZonYh9bt5kzw9CaC0NOmm0aMJoL/+tcFz232wvvrqKwB+fn5N7YDm3r17psO+lJQUtWupx/jxBND48dLx774jgLy96datBs9t38EqLy/v2LEjgA8//FDtWuoQFxcHIDg4+PHjx2rXInX8OL3Z/9Ltp3pTTo7ZBr2eunYlgNata8z89h2sNWvWAOjSpUtFRYXatdRBr9d37doVwPr169WuxUxlJfXqRQAtW1rrwDw+ngAKDqbG/TLYcbDy8vJ8fHwAfPvtt2rXUq8jR44A8Pb2vtWIPyuy27qVAAoMpEePzDfcu0cBAQTQvn2NXMKOgzV58mQAkZGRahfyB0aNGgVgypQpahdSpaiIWrcmgD77TLop791YAmjo0MavYq/BOnv2rL1cSlB9wcXp06fVroWo/v5UZia5utKswRmUldX4VewyWEaj0fTmzHvvvad2LVaZM2cOgH79+il5iVidLPSnhg0jgGJi5FnILoOVlJQEoGXLlg8l70I0VUVFRa1atQKwq0Fvj8iovv5UcjIB5O9PcjVt7C9YpaWlbdu2BfDJJ5+oXYsNEhISAAQGBpaUlKhVQ339qfJy6tiRANq8Wba17C9YS5YsAdCjR49KybsQTVtlZWVYWBiAZcuWqVKAhf7U6tUEUJcuJOOVPnYWrBs3bnh4eGg0mmPHjqldi82OHz+u0Wjc3d2vX7+u/Oqmixg6dJD2p0yXjgJ06JCcy9lZsMaNGwdgwoQJahfSQCrWbzRSUlId6Zk0iQAaM0bm5ewpWOr+xsuiqe1xz56tunRU9qZNA4MVnx+/875yn9qjJnCMIheFjxGzskhy5U5BAZkuqzYa6fnnCaD58+Vf9w+CVVpZuvzW8tDsUL8Mv8DzgdHXo3+r+I2IXrr00t9y/iZ/OfVrCmdVslD4rLZzZ9Jo6H//+31kyxby8iIiysujtm3Jx4eKiuRf19KNBgxkGHF5RGxBbJRvVFK7pBVtVlx4fOGN62/YfPlzoxUXF5t+0WNjYz08PJQvQEbu7u6rV68GsGDBgsLCQgVW9PLCzJnQ680GHzzA4cMYNgyDB2PvXty6JfOiloKVeC8x7VHaZ+0+W9J6SUSziMkBk492PPpF0Bcyl2CFZcuW5eXl9evXz3Twa+8mTJgwYMCA/Px809UZokVH49YtfPCB2aBWCw8PuLmheXN4eMDJSeZFLX1KJ/lhclf3rhHNIqpH3LRublq36v8sM5aVGEtsWk9DGiq07ZOM165d27Rpk1arjY+P12g0Nn1v06TRaDZu3Pjcc8/FxcWNGTMmODjY6m/0ILJhh236cI2fH5Yvx7x5GDcOQUG/b4qKQnExiooQFWVb/dawFKxL5ZfCPMIsvGBd/rqlt5fatF5bbdsbPW7Y9C0AnJ2do6KiTAfvjqFnz56RkZEpKSl9+vSx/rsGDfp7WtpK61+fmlr1xdSp2LoVMTFISTF7QUQEDAbr57OBpWA9Nj72dvK28AIPrUeALsCm9XzJtyTAtp3c48ePS0pK6jscycrK8vX1DQwMtGlOxdy4caO4uDgkJKT2psLCQoPB4Onp6ebmVntrnTw9PQNs+fd2can6QqfDli3o3x/79pm9oEULG2azjYUD+9Ds0BG/jqhzk5Jnhfn5+c2aNQNw8OBByabExESdTjdu3DhlKmmAqKgonU63Y8cOyfjXX38NwMfH5/bt20IL6NyZli6t+jo6moKDaePGqrNCoSwFa2rOVN8M34eGOq4gULjdsG7dOgCdO3eWXIJ88+ZN0w0Uvv/+e8WKsV5qaioADw+PHPPryisqKp5++mkAH3zwgegaagbrzh3y96fOndUOVkZphi5d91bOW3pj1ZuT5cby2xW3SfFglZeXd+rUCcDGjRslm5YuXQqge/fuBoNBsXqsYTAYunXrBmDlypWSTbGxsQA6dOhQXl4uuoyawSKijz4iQO1gEdEndz9x+8kt8Hzg2CtjI69EtjjXIvp6NKnRIN2/fz8APz+/O9X3cCIiotLS0nbt2gFISEhQsp4/tGXLFgBt27aVdHTz8/N9fX0BfPPNNwqUIQlWZSX16dMEgkVEuRW5/7rzr/dy33s/7/39D/dXGCuIKPlBcmpRqvDqzA0fPhzA9OnTJeO7du0C0KJFi6Zz3d+DBw+aN28OYPfu3ZJNb731FoCRI0cqU0lhIZWVmY2UldGVK5Qq+KdnT29CZ2dnOzs7Ozk5nTt3TrJp4MCBAObOnatKYbXNnj0bQP/+/SXXIv/0009OTk7Ozs4XLlxQq7acHPLzIz8/Mt/1y8yegkVEMTExAF588UXJeHp6upOTk4uLi4o/sGq//PKL6RcgIyNDsmnQoEEA3nnnHVUKqzZ8OAFUa9cvJzsL1v37901/Yvbs2SPZNGXKFACjRo1SpbCaRowYAWDatGmS8c8//xzAE0888eDBA1UKq5adTc7O5OREtXb9srGzYBHR5s2bAQQFBZWZHztUt7uUOSiuT0pKCgBfX9+CgoKa49UnGR9//LFatdUUE0MA1dr1y8b+gmUwGEJDQwGsXr1asmn9+vUAnnnmGbU+cV/doIqLi5NsWr58eZNqi9y/T82bE0C1dv3ysL9g0f83Hr28vH777bea4xbaXcowNahqJzs3N7cJNnI3byaAgoKkp42ysMtgEZHpiUiTJk2SjNfX7lKAhQbV66+/DuC1115TuCTLDAYKDSWAVq2Sf3J7DdaVK1fc3Nw0Gs3Jkyclm+prd4lWX4Pqhx9+0Gg0bm5u165dU7ikP5SaWtWIN9/1y8Beg0VECxYsANCnTx9Jr6i63VX7bF+c+hpUlZWVzz//PIDFixcrVoxNxowhgGrt+hvLjoNVXFzcpk0bALWvHTDdkbt2u0scU4Nqzpw5kvFt27YBePLJJx9J7xjUVFy5QoF+j44NXlzHU5kawY6DRUSJiYmmH1txcXHNcQvtLhHqa1BVRz8pKUmBMhqsYskKAqhPn4bdILlO9h0so9Fo+kOzaNEiyab62l2ys9Cgmj9/fp1/rJuc4mJq04YA2r5drintO1hEdOLECdOh8dWrV2uOV7e7Vok456lh2bJldTaoqk8vlH8OWUMkJhJArVqRTM9btPtgEdEbb7wB4NVXX5WM19fukpGFBlVkZCSAyZMnC1paZkYj9e5NAP3977LM5wjBys3NNT3Z5nCtxzSOHTsWwMSJEwUtPWHCBAC1r40+evSo6EzL78QJ0mjI1ZV+/bXxkzlCsIhoxYoVAEJCQiTP3Lp69Wp97a7Gq69BVf0csjVr1si+qFh/+QsBFBXV+JkcJFhlZWWmI+iPPvpIssnU7lpa8zJKmSxevLjO84ZNmzYBaN++vejzBvnl5pKXl02P6K2PgwSLiL744gsA/v7+9+7dqzleXFws7tYuaWlpkgZVdacjOTlZ0KJirVxJAIWENPIubI4TLCIaPHgwgLffflvFGmbOnImm9Bwym5WVUVAQAdS4y3scKlgZGRlOTk46nS5LjhtKN4CFi6ftSXIyxcSQ+Y7fVg4VLCKaOnUqgPDwcFVWf/nllwHMsOVp701XdjZNnUq9elFICI0cSf/9r019eUcLVkFBgenalQMHDii89L59+9S6Ykd+R46QuzsNGULx8ZSYSDNmkKsrvfkmEVFuLp07R+fOUXa2hQkcLVhEtGHDBtPHQZV85lb1NYbx8fGKLSpKeTm1aUNRUWa7qL17CaCvvqKkJJo2jaZNo3nzLMzhgMHS6/Wmm3Bs2LBBsUXXrl1b500A7NI33xBAZ89Kx7t3p7FjrZzDcZ5iX02n061bt27kyJGLFi06fvy4s7Oz6BX1ev3BgwcBxMXFKbCccJmZ0GjwzDPS8ZAQnDpl5RwOGCwAERERs2fPPn/+vOn5qwoIDw8PDQ01HbzbvdJSuLmh9i05AwJQYu0tqBwzWADi4uJOnjyZk5OjzHLt2rXr3bu3MmsJ5++PsjI8fAhfX7PxW7fQvLmVc2iIbLtxI3N8J06gXz989x2GDPl90GhEcDDCw7F1qzVzcLBYLUQIC4NOh9RUeHpWDcbGYv58nDqFnj2tmYODxepy4QKGDoVWi+HDERCAEydw7Bji4hATY+UEHCxWj6IifPopTp9GeTmCgzF+PEJDrf9uDhYTwtIDBBhrMA4WE4KDxYTgYDEhOFhMCA4WE4KDxYTgYDEhOFhMCA4WE4KDxYTgYDEhOFhMCA4WE4KDxYTgYDEhOFhMCA4WE4KDxYTgYDEhOFhMCA4WE4KDxYTgYDEhOFhMCA4WE4KDxYTgYDEhOFhMCA4WE4KDxYTgYDEhOFhMCA4WE4KDxYTgYDEhOFhMCA4WE4KDxYTgYDEhOFhMCA4WE4KDxYTgYDEhOFhMCA4WE4KDxYTgYDEhOFhMCA4WE4KDxYTgYDEhOFhMCA4WE4KDxYTgYDEhOFhMCA4WE4KDxYTgYDEhOFhMCA4WE+L/ANbhW4w2HD8JAAAAuXpUWHRyZGtpdFBLTCByZGtpdCAyMDIwLjA5LjEAAHice79v7T0GIOABYkYGCOCC4gZGDgYNIM3MxK6gBZJnZuEAM/4zM7I5gGVY2BwyQDRIAM6AyAgyKID0YCrgZmDUYGJkUmBkVmBmyWBiYU1gZctgYmNnYONI4ODMYOJkThBhZGPm5GBjZRGHuQnkoAKHRa7L7CFcBwcGOACL74ewD9gjxB3sEeIO+5HU7EdScwCJvR/JfHsYWwwAUwoh9C/p/YEAAADselRYdE1PTCByZGtpdCAyMDIwLjA5LjEAAHicrVNBCoMwELznFfuBhN2otTlraaHUQg99QEGoIAriqa9vskos2BTbGlacYbLDrIkks3vddq2MZVP1XXsrm0fZlALcuuTHqge/dC4EELqC92WMgatGRO6PVJogOkRKG8MIlVURzhCyeK3RhTum3gkVc5c46DJmkUuyUMCFVBLKki2fCMNZlrvIdVxWmUh+OKOs/n6i+X355ev+4WLPX3M5Yl/RcCUGEntiUeK3WbTxikWpVyzaesUS44nhf2nYRjhZnwCyw54Vfgg4gySn7IpcPAH4x5dHCLJV6wAAAId6VFh0U01JTEVTIHJka2l0IDIwMjAuMDkuMQAAeJzzt432047ViPbXjdVMNkxOTtZwztFMTjZUqNEw1jM31THUM7K01LE21jEAEiABXaiIoZ4pSMwAWUwXlQdVogvWDJGDSiGxNXUSS/JzA4ryC6wM9XLzc0LyS8ISc1LzklP1TKyM0EQMawAdySwsQEzMvAAAAABJRU5ErkJggg==\" alt=\"Mol\"/></td>\n",
       "    </tr>\n",
       "  </tbody>\n",
       "</table>\n",
       "</div>"
      ],
      "text/plain": [
       "        CAS result                    smiles                     name  \\\n",
       "0  100-00-5      1  O=[N+]([O-])c1ccc(Cl)cc1  1-Chloro-4-nitrobenzene   \n",
       "\n",
       "                                            molecule  \n",
       "0  <img data-content=\"rdkit/molecule\" src=\"data:i...  "
      ]
     },
     "execution_count": 46,
     "metadata": {},
     "output_type": "execute_result"
    }
   ],
   "source": [
    "df_Predeep_rest.head(1)"
   ]
  },
  {
   "cell_type": "code",
   "execution_count": 47,
   "id": "da7c7ce8",
   "metadata": {},
   "outputs": [
    {
     "name": "stderr",
     "output_type": "stream",
     "text": [
      "C:\\Users\\karol\\anaconda3\\envs\\jupyter\\lib\\site-packages\\pandas\\core\\frame.py:4174: SettingWithCopyWarning: \n",
      "A value is trying to be set on a copy of a slice from a DataFrame\n",
      "\n",
      "See the caveats in the documentation: https://pandas.pydata.org/pandas-docs/stable/user_guide/indexing.html#returning-a-view-versus-a-copy\n",
      "  errors=errors,\n"
     ]
    }
   ],
   "source": [
    "df_Hansen_rest = df_Hansen[~df_Hansen['CAS'].isin(merged2['CAS'])]\n",
    "df_Hansen_rest.drop(['inchi','structure_curated', 'ID'], inplace=True, axis=1)\n",
    "df_Hansen_rest.reset_index(inplace=True, drop=True)"
   ]
  },
  {
   "cell_type": "code",
   "execution_count": 48,
   "id": "6da5a20a",
   "metadata": {},
   "outputs": [
    {
     "data": {
      "text/html": [
       "<div>\n",
       "<style scoped>\n",
       "    .dataframe tbody tr th:only-of-type {\n",
       "        vertical-align: middle;\n",
       "    }\n",
       "\n",
       "    .dataframe tbody tr th {\n",
       "        vertical-align: top;\n",
       "    }\n",
       "\n",
       "    .dataframe thead th {\n",
       "        text-align: right;\n",
       "    }\n",
       "</style>\n",
       "<table border=\"1\" class=\"dataframe\">\n",
       "  <thead>\n",
       "    <tr style=\"text-align: right;\">\n",
       "      <th></th>\n",
       "      <th>CAS</th>\n",
       "      <th>result</th>\n",
       "      <th>smiles</th>\n",
       "      <th>molecule</th>\n",
       "    </tr>\n",
       "  </thead>\n",
       "  <tbody>\n",
       "    <tr>\n",
       "      <th>0</th>\n",
       "      <td>2475-33-4</td>\n",
       "      <td>0</td>\n",
       "      <td>O=c1c2ccccc2c(=O)c2c1ccc1c2[nH]c2c3c(=O)c4cccc...</td>\n",
       "      <td><img data-content=\"rdkit/molecule\" src=\"data:image/png;base64,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\" alt=\"Mol\"/></td>\n",
       "    </tr>\n",
       "  </tbody>\n",
       "</table>\n",
       "</div>"
      ],
      "text/plain": [
       "         CAS result                                             smiles  \\\n",
       "0  2475-33-4      0  O=c1c2ccccc2c(=O)c2c1ccc1c2[nH]c2c3c(=O)c4cccc...   \n",
       "\n",
       "                                            molecule  \n",
       "0  <img data-content=\"rdkit/molecule\" src=\"data:i...  "
      ]
     },
     "execution_count": 48,
     "metadata": {},
     "output_type": "execute_result"
    }
   ],
   "source": [
    "df_Hansen_rest.head(1)"
   ]
  },
  {
   "cell_type": "code",
   "execution_count": 49,
   "id": "a920a64e",
   "metadata": {},
   "outputs": [
    {
     "data": {
      "text/html": [
       "<div>\n",
       "<style scoped>\n",
       "    .dataframe tbody tr th:only-of-type {\n",
       "        vertical-align: middle;\n",
       "    }\n",
       "\n",
       "    .dataframe tbody tr th {\n",
       "        vertical-align: top;\n",
       "    }\n",
       "\n",
       "    .dataframe thead th {\n",
       "        text-align: right;\n",
       "    }\n",
       "</style>\n",
       "<table border=\"1\" class=\"dataframe\">\n",
       "  <thead>\n",
       "    <tr style=\"text-align: right;\">\n",
       "      <th></th>\n",
       "      <th>CAS</th>\n",
       "      <th>result</th>\n",
       "      <th>smiles</th>\n",
       "      <th>name</th>\n",
       "      <th>molecule</th>\n",
       "    </tr>\n",
       "  </thead>\n",
       "  <tbody>\n",
       "    <tr>\n",
       "      <th>0</th>\n",
       "      <td>636-98-6</td>\n",
       "      <td>1</td>\n",
       "      <td>O=[N+]([O-])c1ccc(I)cc1</td>\n",
       "      <td>1-Iodo-4-nitrobenzene</td>\n",
       "      <td><img data-content=\"rdkit/molecule\" src=\"data:image/png;base64,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\" alt=\"Mol\"/></td>\n",
       "    </tr>\n",
       "  </tbody>\n",
       "</table>\n",
       "</div>"
      ],
      "text/plain": [
       "        CAS result                   smiles                   name  \\\n",
       "0  636-98-6      1  O=[N+]([O-])c1ccc(I)cc1  1-Iodo-4-nitrobenzene   \n",
       "\n",
       "                                            molecule  \n",
       "0  <img data-content=\"rdkit/molecule\" src=\"data:i...  "
      ]
     },
     "execution_count": 49,
     "metadata": {},
     "output_type": "execute_result"
    }
   ],
   "source": [
    "df_Hakura.drop(['inchi'], inplace=True, axis=1)\n",
    "df_Hakura.rename(columns={'CAS_No.':'CAS','ID':'name'}, inplace=True)\n",
    "df_Hakura.reset_index(inplace=True, drop=True)\n",
    "df_Hakura.head(1)"
   ]
  },
  {
   "cell_type": "code",
   "execution_count": 50,
   "id": "c1390ed8",
   "metadata": {},
   "outputs": [],
   "source": [
    "PandasTools.WriteSDF(df_Hansen_rest, r\"G:\\My Drive\\UPF\\projects\\dst\\tox_evidence_combination_DST\\data\\curated\\selected_intersection\\hansen_ames_curated_selected.sdf\", molColName='molecule', idName='CAS', properties=['smiles','result'])\n",
    "PandasTools.WriteSDF(df_Predeep_rest, r\"G:\\My Drive\\UPF\\projects\\dst\\tox_evidence_combination_DST\\data\\curated\\selected_intersection\\predeep_ames_curated_selected.sdf\", molColName='molecule', idName='CAS', properties=['smiles','result','name'])\n",
    "PandasTools.WriteSDF(df_Hakura, r\"G:\\My Drive\\UPF\\projects\\dst\\tox_evidence_combination_DST\\data\\curated\\selected_intersection\\hakura_ames_curated_selected.sdf\", molColName='molecule', idName='CAS', properties=['smiles','result','name'])\n",
    "PandasTools.WriteSDF(merged2, r\"G:\\My Drive\\UPF\\projects\\dst\\tox_evidence_combination_DST\\data\\curated\\selected_intersection\\intersection_test.sdf\", molColName='molecule', idName='CAS', properties=['smiles','result'])"
   ]
  }
 ],
 "metadata": {
  "kernelspec": {
   "display_name": "Python (jupyter)",
   "language": "python",
   "name": "jupyter"
  },
  "language_info": {
   "codemirror_mode": {
    "name": "ipython",
    "version": 3
   },
   "file_extension": ".py",
   "mimetype": "text/x-python",
   "name": "python",
   "nbconvert_exporter": "python",
   "pygments_lexer": "ipython3",
   "version": "3.6.13"
  }
 },
 "nbformat": 4,
 "nbformat_minor": 5
}
